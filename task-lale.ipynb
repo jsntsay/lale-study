{
 "cells": [
  {
   "cell_type": "markdown",
   "metadata": {},
   "source": [
    "# Lale User Study - March 2021 - Lale treatment\n",
    "\n",
    "The goal of this study is to examine different dimensions of usability of machine learning (ML) pipelines. We will provide a number of sample pipelines and ask you to analyze and manipulate them during 4 tasks:\n",
    "1. Understanding the pipeline\n",
    "1. Refinement\n",
    "1. Debugging\n",
    "1. Refinement with Search\n",
    "\n",
    "Before we start, we load a dataset and print a few rows to see what it looks like."
   ]
  },
  {
   "cell_type": "code",
   "execution_count": 1,
   "metadata": {},
   "outputs": [
    {
     "name": "stderr",
     "output_type": "stream",
     "text": [
      "/Users/jtsay/.pyenv/versions/3.7.9/lib/python3.7/site-packages/pyparsing.py:3190: FutureWarning: Possible set intersection at position 3\n",
      "  self.re = re.compile(self.reString)\n"
     ]
    },
    {
     "data": {
      "text/html": [
       "<div>\n",
       "<style scoped>\n",
       "    .dataframe tbody tr th:only-of-type {\n",
       "        vertical-align: middle;\n",
       "    }\n",
       "\n",
       "    .dataframe tbody tr th {\n",
       "        vertical-align: top;\n",
       "    }\n",
       "\n",
       "    .dataframe thead th {\n",
       "        text-align: right;\n",
       "    }\n",
       "</style>\n",
       "<table border=\"1\" class=\"dataframe\">\n",
       "  <thead>\n",
       "    <tr style=\"text-align: right;\">\n",
       "      <th></th>\n",
       "      <th>target</th>\n",
       "      <th>Elevation</th>\n",
       "      <th>Aspect</th>\n",
       "      <th>Slope</th>\n",
       "      <th>Horizontal_Distance_To_Hydrology</th>\n",
       "      <th>...</th>\n",
       "      <th>Soil_Type36</th>\n",
       "      <th>Soil_Type37</th>\n",
       "      <th>Soil_Type38</th>\n",
       "      <th>Soil_Type39</th>\n",
       "      <th>Soil_Type40</th>\n",
       "    </tr>\n",
       "  </thead>\n",
       "  <tbody>\n",
       "    <tr>\n",
       "      <th>290090</th>\n",
       "      <td>3</td>\n",
       "      <td>2475.0</td>\n",
       "      <td>102.0</td>\n",
       "      <td>12.0</td>\n",
       "      <td>134.0</td>\n",
       "      <td>...</td>\n",
       "      <td>0.0</td>\n",
       "      <td>0.0</td>\n",
       "      <td>0.0</td>\n",
       "      <td>0.0</td>\n",
       "      <td>0.0</td>\n",
       "    </tr>\n",
       "    <tr>\n",
       "      <th>7182</th>\n",
       "      <td>1</td>\n",
       "      <td>3182.0</td>\n",
       "      <td>49.0</td>\n",
       "      <td>5.0</td>\n",
       "      <td>633.0</td>\n",
       "      <td>...</td>\n",
       "      <td>0.0</td>\n",
       "      <td>0.0</td>\n",
       "      <td>0.0</td>\n",
       "      <td>0.0</td>\n",
       "      <td>0.0</td>\n",
       "    </tr>\n",
       "    <tr>\n",
       "      <th>19521</th>\n",
       "      <td>6</td>\n",
       "      <td>1948.0</td>\n",
       "      <td>58.0</td>\n",
       "      <td>29.0</td>\n",
       "      <td>228.0</td>\n",
       "      <td>...</td>\n",
       "      <td>0.0</td>\n",
       "      <td>0.0</td>\n",
       "      <td>0.0</td>\n",
       "      <td>0.0</td>\n",
       "      <td>0.0</td>\n",
       "    </tr>\n",
       "    <tr>\n",
       "      <th>558581</th>\n",
       "      <td>1</td>\n",
       "      <td>3313.0</td>\n",
       "      <td>327.0</td>\n",
       "      <td>5.0</td>\n",
       "      <td>127.0</td>\n",
       "      <td>...</td>\n",
       "      <td>0.0</td>\n",
       "      <td>0.0</td>\n",
       "      <td>1.0</td>\n",
       "      <td>0.0</td>\n",
       "      <td>0.0</td>\n",
       "    </tr>\n",
       "    <tr>\n",
       "      <th>5333</th>\n",
       "      <td>2</td>\n",
       "      <td>3201.0</td>\n",
       "      <td>152.0</td>\n",
       "      <td>16.0</td>\n",
       "      <td>764.0</td>\n",
       "      <td>...</td>\n",
       "      <td>0.0</td>\n",
       "      <td>0.0</td>\n",
       "      <td>0.0</td>\n",
       "      <td>0.0</td>\n",
       "      <td>0.0</td>\n",
       "    </tr>\n",
       "    <tr>\n",
       "      <th>...</th>\n",
       "      <td>...</td>\n",
       "      <td>...</td>\n",
       "      <td>...</td>\n",
       "      <td>...</td>\n",
       "      <td>...</td>\n",
       "      <td>...</td>\n",
       "      <td>...</td>\n",
       "      <td>...</td>\n",
       "      <td>...</td>\n",
       "      <td>...</td>\n",
       "      <td>...</td>\n",
       "    </tr>\n",
       "    <tr>\n",
       "      <th>520157</th>\n",
       "      <td>2</td>\n",
       "      <td>3073.0</td>\n",
       "      <td>294.0</td>\n",
       "      <td>9.0</td>\n",
       "      <td>256.0</td>\n",
       "      <td>...</td>\n",
       "      <td>0.0</td>\n",
       "      <td>0.0</td>\n",
       "      <td>0.0</td>\n",
       "      <td>0.0</td>\n",
       "      <td>0.0</td>\n",
       "    </tr>\n",
       "    <tr>\n",
       "      <th>92586</th>\n",
       "      <td>1</td>\n",
       "      <td>2694.0</td>\n",
       "      <td>225.0</td>\n",
       "      <td>4.0</td>\n",
       "      <td>60.0</td>\n",
       "      <td>...</td>\n",
       "      <td>0.0</td>\n",
       "      <td>0.0</td>\n",
       "      <td>0.0</td>\n",
       "      <td>0.0</td>\n",
       "      <td>0.0</td>\n",
       "    </tr>\n",
       "    <tr>\n",
       "      <th>298700</th>\n",
       "      <td>1</td>\n",
       "      <td>3292.0</td>\n",
       "      <td>113.0</td>\n",
       "      <td>18.0</td>\n",
       "      <td>67.0</td>\n",
       "      <td>...</td>\n",
       "      <td>0.0</td>\n",
       "      <td>0.0</td>\n",
       "      <td>1.0</td>\n",
       "      <td>0.0</td>\n",
       "      <td>0.0</td>\n",
       "    </tr>\n",
       "    <tr>\n",
       "      <th>561595</th>\n",
       "      <td>2</td>\n",
       "      <td>2926.0</td>\n",
       "      <td>141.0</td>\n",
       "      <td>10.0</td>\n",
       "      <td>150.0</td>\n",
       "      <td>...</td>\n",
       "      <td>0.0</td>\n",
       "      <td>0.0</td>\n",
       "      <td>0.0</td>\n",
       "      <td>0.0</td>\n",
       "      <td>0.0</td>\n",
       "    </tr>\n",
       "    <tr>\n",
       "      <th>292188</th>\n",
       "      <td>1</td>\n",
       "      <td>2972.0</td>\n",
       "      <td>247.0</td>\n",
       "      <td>7.0</td>\n",
       "      <td>0.0</td>\n",
       "      <td>...</td>\n",
       "      <td>0.0</td>\n",
       "      <td>0.0</td>\n",
       "      <td>0.0</td>\n",
       "      <td>0.0</td>\n",
       "      <td>0.0</td>\n",
       "    </tr>\n",
       "  </tbody>\n",
       "</table>\n",
       "<p>5000 rows × 54 columns</p>\n",
       "</div>"
      ],
      "text/plain": [
       "        target  Elevation  Aspect  Slope  Horizontal_Distance_To_Hydrology  \\\n",
       "290090       3     2475.0   102.0   12.0                             134.0   \n",
       "7182         1     3182.0    49.0    5.0                             633.0   \n",
       "19521        6     1948.0    58.0   29.0                             228.0   \n",
       "558581       1     3313.0   327.0    5.0                             127.0   \n",
       "5333         2     3201.0   152.0   16.0                             764.0   \n",
       "...        ...        ...     ...    ...                               ...   \n",
       "520157       2     3073.0   294.0    9.0                             256.0   \n",
       "92586        1     2694.0   225.0    4.0                              60.0   \n",
       "298700       1     3292.0   113.0   18.0                              67.0   \n",
       "561595       2     2926.0   141.0   10.0                             150.0   \n",
       "292188       1     2972.0   247.0    7.0                               0.0   \n",
       "\n",
       "        ...  Soil_Type36  Soil_Type37  Soil_Type38  Soil_Type39  Soil_Type40  \n",
       "290090  ...          0.0          0.0          0.0          0.0          0.0  \n",
       "7182    ...          0.0          0.0          0.0          0.0          0.0  \n",
       "19521   ...          0.0          0.0          0.0          0.0          0.0  \n",
       "558581  ...          0.0          0.0          1.0          0.0          0.0  \n",
       "5333    ...          0.0          0.0          0.0          0.0          0.0  \n",
       "...     ...          ...          ...          ...          ...          ...  \n",
       "520157  ...          0.0          0.0          0.0          0.0          0.0  \n",
       "92586   ...          0.0          0.0          0.0          0.0          0.0  \n",
       "298700  ...          0.0          0.0          1.0          0.0          0.0  \n",
       "561595  ...          0.0          0.0          0.0          0.0          0.0  \n",
       "292188  ...          0.0          0.0          0.0          0.0          0.0  \n",
       "\n",
       "[5000 rows x 54 columns]"
      ]
     },
     "execution_count": 1,
     "metadata": {},
     "output_type": "execute_result"
    }
   ],
   "source": [
    "#load forest covertype data, downsample for faster experiments\n",
    "import pandas as pd\n",
    "from lale.datasets import covtype_df\n",
    "from sklearn.model_selection import train_test_split\n",
    "from lale.lib.lale import categorical\n",
    "\n",
    "train_X = pd.read_pickle(\"train_x.pickle\")\n",
    "test_X = pd.read_pickle(\"test_x.pickle\")\n",
    "train_y = pd.read_pickle(\"train_y.pickle\")\n",
    "test_y = pd.read_pickle(\"test_y.pickle\")\n",
    "\n",
    "pd.options.display.max_columns = 10\n",
    "pd.concat([train_y, train_X], axis=1)"
   ]
  },
  {
   "cell_type": "markdown",
   "metadata": {},
   "source": [
    "## Step 1. Understand a Pipeline\n",
    "\n",
    "Consider the following Lale pipeline:"
   ]
  },
  {
   "cell_type": "code",
   "execution_count": 2,
   "metadata": {},
   "outputs": [],
   "source": [
    "from lale.lib.sklearn import Normalizer\n",
    "from lale.lib.sklearn import SelectKBest\n",
    "from lale.lib.sklearn import KNeighborsClassifier\n",
    "from lale.lib.lale import Project\n",
    "from lale.lib.lale import categorical\n",
    "from lale.lib.lale import ConcatFeatures"
   ]
  },
  {
   "cell_type": "code",
   "execution_count": 3,
   "metadata": {},
   "outputs": [],
   "source": [
    "prepA = Project(drop_columns=categorical(max_values=2)) >> Normalizer()\n",
    "prepB = Project(columns=categorical(max_values=2)) >> SelectKBest(k=8)\n",
    "pipeline1 = (prepA & prepB) >> ConcatFeatures >> KNeighborsClassifier()"
   ]
  },
  {
   "cell_type": "code",
   "execution_count": 4,
   "metadata": {},
   "outputs": [
    {
     "name": "stdout",
     "output_type": "stream",
     "text": [
      "accuracy 64.8%\n"
     ]
    }
   ],
   "source": [
    "from sklearn.metrics import accuracy_score\n",
    "trained1 = pipeline1.fit(train_X, train_y)\n",
    "print(f\"accuracy {accuracy_score(test_y, trained1.predict(test_X)):.1%}\")"
   ]
  },
  {
   "cell_type": "markdown",
   "metadata": {},
   "source": [
    "Handy documentation links:\n",
    "- [Lale API](https://lale.readthedocs.io/en/latest/)\n",
    "- [scikit-learn API](https://scikit-learn.org/stable/modules/classes.html)"
   ]
  },
  {
   "cell_type": "code",
   "execution_count": 4,
   "metadata": {},
   "outputs": [
    {
     "data": {
      "image/svg+xml": [
       "<?xml version=\"1.0\" encoding=\"UTF-8\" standalone=\"no\"?>\n",
       "<!DOCTYPE svg PUBLIC \"-//W3C//DTD SVG 1.1//EN\"\n",
       " \"http://www.w3.org/Graphics/SVG/1.1/DTD/svg11.dtd\">\n",
       "<!-- Generated by graphviz version 2.49.3 (20211023.0002)\n",
       " -->\n",
       "<!-- Title: cluster:(root) Pages: 1 -->\n",
       "<svg width=\"383pt\" height=\"107pt\"\n",
       " viewBox=\"0.00 0.00 382.94 107.28\" xmlns=\"http://www.w3.org/2000/svg\" xmlns:xlink=\"http://www.w3.org/1999/xlink\">\n",
       "<g id=\"graph0\" class=\"graph\" transform=\"scale(1 1) rotate(0) translate(4 103.28)\">\n",
       "<title>cluster:(root)</title>\n",
       "<g id=\"a_graph0\"><a xlink:title=\"(root) = ...\">\n",
       "<polygon fill=\"white\" stroke=\"transparent\" points=\"-4,4 -4,-103.28 378.94,-103.28 378.94,4 -4,4\"/>\n",
       "</a>\n",
       "</g>\n",
       "<!-- project_0 -->\n",
       "<g id=\"node1\" class=\"node\">\n",
       "<title>project_0</title>\n",
       "<g id=\"a_node1\"><a xlink:href=\"https://lale.readthedocs.io/en/latest/modules/lale.lib.rasl.project.html&quot; target=&quot;_blank&quot; rel=&quot;noopener noreferrer\" xlink:title=\"project_0 = Project(drop_columns=lale.lib.rasl.functions.categorical())\">\n",
       "<ellipse fill=\"#b0e2ff\" stroke=\"black\" cx=\"27\" cy=\"-81.28\" rx=\"27\" ry=\"18\"/>\n",
       "<text text-anchor=\"middle\" x=\"27\" y=\"-78.48\" font-family=\"Times,serif\" font-size=\"11.00\">Project</text>\n",
       "</a>\n",
       "</g>\n",
       "</g>\n",
       "<!-- normalizer -->\n",
       "<g id=\"node2\" class=\"node\">\n",
       "<title>normalizer</title>\n",
       "<g id=\"a_node2\"><a xlink:href=\"https://lale.readthedocs.io/en/latest/modules/lale.lib.sklearn.normalizer.html&quot; target=&quot;_blank&quot; rel=&quot;noopener noreferrer\" xlink:title=\"normalizer = Normalizer()\">\n",
       "<ellipse fill=\"#b0e2ff\" stroke=\"black\" cx=\"122.93\" cy=\"-81.28\" rx=\"32.86\" ry=\"18\"/>\n",
       "<text text-anchor=\"middle\" x=\"122.93\" y=\"-78.48\" font-family=\"Times,serif\" font-size=\"11.00\">Normalizer</text>\n",
       "</a>\n",
       "</g>\n",
       "</g>\n",
       "<!-- project_0&#45;&gt;normalizer -->\n",
       "<g id=\"edge1\" class=\"edge\">\n",
       "<title>project_0&#45;&gt;normalizer</title>\n",
       "<path fill=\"none\" stroke=\"black\" d=\"M54.17,-81.28C62.12,-81.28 71.08,-81.28 79.81,-81.28\"/>\n",
       "<polygon fill=\"black\" stroke=\"black\" points=\"79.89,-84.78 89.89,-81.28 79.89,-77.78 79.89,-84.78\"/>\n",
       "</g>\n",
       "<!-- concat_features -->\n",
       "<g id=\"node5\" class=\"node\">\n",
       "<title>concat_features</title>\n",
       "<g id=\"a_node5\"><a xlink:href=\"https://lale.readthedocs.io/en/latest/modules/lale.lib.rasl.concat_features.html&quot; target=&quot;_blank&quot; rel=&quot;noopener noreferrer\" xlink:title=\"concat_features = ConcatFeatures\">\n",
       "<ellipse fill=\"white\" stroke=\"black\" cx=\"224.39\" cy=\"-54.28\" rx=\"32.55\" ry=\"19.6\"/>\n",
       "<text text-anchor=\"middle\" x=\"224.39\" y=\"-57.48\" font-family=\"Times,serif\" font-size=\"11.00\">Concat&#45;</text>\n",
       "<text text-anchor=\"middle\" x=\"224.39\" y=\"-45.48\" font-family=\"Times,serif\" font-size=\"11.00\">Features</text>\n",
       "</a>\n",
       "</g>\n",
       "</g>\n",
       "<!-- normalizer&#45;&gt;concat_features -->\n",
       "<g id=\"edge3\" class=\"edge\">\n",
       "<title>normalizer&#45;&gt;concat_features</title>\n",
       "<path fill=\"none\" stroke=\"black\" d=\"M152.7,-73.47C162.61,-70.78 173.88,-67.72 184.47,-64.85\"/>\n",
       "<polygon fill=\"black\" stroke=\"black\" points=\"185.61,-68.17 194.34,-62.17 183.77,-61.41 185.61,-68.17\"/>\n",
       "</g>\n",
       "<!-- project_1 -->\n",
       "<g id=\"node3\" class=\"node\">\n",
       "<title>project_1</title>\n",
       "<g id=\"a_node3\"><a xlink:href=\"https://lale.readthedocs.io/en/latest/modules/lale.lib.rasl.project.html&quot; target=&quot;_blank&quot; rel=&quot;noopener noreferrer\" xlink:title=\"project_1 = Project(columns=lale.lib.rasl.functions.categorical())\">\n",
       "<ellipse fill=\"#b0e2ff\" stroke=\"black\" cx=\"27\" cy=\"-28.28\" rx=\"27\" ry=\"18\"/>\n",
       "<text text-anchor=\"middle\" x=\"27\" y=\"-25.48\" font-family=\"Times,serif\" font-size=\"11.00\">Project</text>\n",
       "</a>\n",
       "</g>\n",
       "</g>\n",
       "<!-- select_k_best -->\n",
       "<g id=\"node4\" class=\"node\">\n",
       "<title>select_k_best</title>\n",
       "<g id=\"a_node4\"><a xlink:href=\"https://lale.readthedocs.io/en/latest/modules/lale.lib.sklearn.select_k_best.html&quot; target=&quot;_blank&quot; rel=&quot;noopener noreferrer\" xlink:title=\"select_k_best = SelectKBest(k=8)\">\n",
       "<ellipse fill=\"#b0e2ff\" stroke=\"black\" cx=\"122.93\" cy=\"-28.28\" rx=\"27.65\" ry=\"28.07\"/>\n",
       "<text text-anchor=\"middle\" x=\"122.93\" y=\"-37.48\" font-family=\"Times,serif\" font-size=\"11.00\">Select&#45;</text>\n",
       "<text text-anchor=\"middle\" x=\"122.93\" y=\"-25.48\" font-family=\"Times,serif\" font-size=\"11.00\">K&#45;</text>\n",
       "<text text-anchor=\"middle\" x=\"122.93\" y=\"-13.48\" font-family=\"Times,serif\" font-size=\"11.00\">Best</text>\n",
       "</a>\n",
       "</g>\n",
       "</g>\n",
       "<!-- project_1&#45;&gt;select_k_best -->\n",
       "<g id=\"edge2\" class=\"edge\">\n",
       "<title>project_1&#45;&gt;select_k_best</title>\n",
       "<path fill=\"none\" stroke=\"black\" d=\"M54.17,-28.28C63.77,-28.28 74.84,-28.28 85.2,-28.28\"/>\n",
       "<polygon fill=\"black\" stroke=\"black\" points=\"85.25,-31.78 95.25,-28.28 85.25,-24.78 85.25,-31.78\"/>\n",
       "</g>\n",
       "<!-- select_k_best&#45;&gt;concat_features -->\n",
       "<g id=\"edge4\" class=\"edge\">\n",
       "<title>select_k_best&#45;&gt;concat_features</title>\n",
       "<path fill=\"none\" stroke=\"black\" d=\"M149.8,-35.05C160.31,-37.79 172.68,-41.03 184.24,-44.05\"/>\n",
       "<polygon fill=\"black\" stroke=\"black\" points=\"183.57,-47.49 194.13,-46.64 185.35,-40.72 183.57,-47.49\"/>\n",
       "</g>\n",
       "<!-- k_neighbors_classifier -->\n",
       "<g id=\"node6\" class=\"node\">\n",
       "<title>k_neighbors_classifier</title>\n",
       "<g id=\"a_node6\"><a xlink:href=\"https://lale.readthedocs.io/en/latest/modules/lale.lib.sklearn.k_neighbors_classifier.html&quot; target=&quot;_blank&quot; rel=&quot;noopener noreferrer\" xlink:title=\"k_neighbors_classifier = KNeighborsClassifier()\">\n",
       "<ellipse fill=\"#b0e2ff\" stroke=\"black\" cx=\"333.93\" cy=\"-54.28\" rx=\"41.02\" ry=\"28.07\"/>\n",
       "<text text-anchor=\"middle\" x=\"333.93\" y=\"-63.48\" font-family=\"Times,serif\" font-size=\"11.00\">K&#45;</text>\n",
       "<text text-anchor=\"middle\" x=\"333.93\" y=\"-51.48\" font-family=\"Times,serif\" font-size=\"11.00\">Neighbors&#45;</text>\n",
       "<text text-anchor=\"middle\" x=\"333.93\" y=\"-39.48\" font-family=\"Times,serif\" font-size=\"11.00\">Classifier</text>\n",
       "</a>\n",
       "</g>\n",
       "</g>\n",
       "<!-- concat_features&#45;&gt;k_neighbors_classifier -->\n",
       "<g id=\"edge5\" class=\"edge\">\n",
       "<title>concat_features&#45;&gt;k_neighbors_classifier</title>\n",
       "<path fill=\"none\" stroke=\"black\" d=\"M257.07,-54.28C265.09,-54.28 273.9,-54.28 282.58,-54.28\"/>\n",
       "<polygon fill=\"black\" stroke=\"black\" points=\"282.67,-57.78 292.67,-54.28 282.67,-50.78 282.67,-57.78\"/>\n",
       "</g>\n",
       "</g>\n",
       "</svg>\n"
      ],
      "text/plain": [
       "<graphviz.dot.Digraph at 0x1415aef50>"
      ]
     },
     "metadata": {},
     "output_type": "display_data"
    }
   ],
   "source": [
    "# if you'd like to try things out, put your code here\n",
    "pipeline1.visualize()"
   ]
  },
  {
   "cell_type": "markdown",
   "metadata": {},
   "source": [
    "**Please answer the following questions.**\n",
    "\n",
    "- Q1a: What is the final classifier in the pipeline?\n",
    "- Q1b: Where does the input for the final classifier come from?\n",
    "- Q1c: Which columns are subjected to feature selection?"
   ]
  },
  {
   "cell_type": "markdown",
   "metadata": {},
   "source": [
    "## 2. Refine without Search\n",
    "\n",
    "Create a `pipeline2` that is similar to `pipeline1` from Question 1, except\n",
    "that instead of Normalizer, it uses a StandardScaler, and\n",
    "instead of KNeighborsClassifier, it uses a DecisionTreeClassifier with\n",
    "a maximum depth of 3. Handy documentation links:\n",
    "- [Lale API](https://lale.readthedocs.io/en/latest/)\n",
    "  - [Lale StandardScaler](https://lale.readthedocs.io/en/latest/modules/lale.lib.sklearn.standard_scaler.html)\n",
    "  - [Lale DecisionTreeClassifier](https://lale.readthedocs.io/en/latest/modules/lale.lib.sklearn.decision_tree_classifier.html)\n",
    "- [scikit-learn API](https://scikit-learn.org/stable/modules/classes.html)\n",
    "  - [sklearn StandardScaler](https://scikit-learn.org/stable/modules/generated/sklearn.preprocessing.StandardScaler.html)\n",
    "  - [sklearn DecisionTreeClassifier](https://scikit-learn.org/stable/modules/generated/sklearn.tree.DecisionTreeClassifier.html)"
   ]
  },
  {
   "cell_type": "markdown",
   "metadata": {},
   "source": [
    "### Answer for Step 2."
   ]
  },
  {
   "cell_type": "code",
   "execution_count": 5,
   "metadata": {},
   "outputs": [],
   "source": [
    "# pipeline1 reproduced below:\n",
    "prepA = Project(drop_columns=categorical(max_values=2)) >> Normalizer()\n",
    "prepB = Project(columns=categorical(max_values=2)) >> SelectKBest(k=8)\n",
    "pipeline1 = (prepA & prepB) >> ConcatFeatures >> KNeighborsClassifier()\n",
    "\n",
    "# your code here"
   ]
  },
  {
   "cell_type": "markdown",
   "metadata": {},
   "source": [
    "### Questions about Step 2.\n",
    "\n",
    "- Q2a. What documentation did you find the most helpful?\n",
    "- Q2b. Did your new pipeline work the first time? If not, what went wrong?\n",
    "- Q2c. What gotchas did you encounter, if any?"
   ]
  },
  {
   "cell_type": "markdown",
   "metadata": {},
   "source": [
    "## Step 3. Error Messages\n",
    "\n",
    "Look at the error message from the following code:"
   ]
  },
  {
   "cell_type": "code",
   "execution_count": 6,
   "metadata": {},
   "outputs": [
    {
     "ename": "ValidationError",
     "evalue": "Invalid configuration for LinearSVC(penalty='l1', loss='hinge') due to constraint the combination of penalty=`l1` and loss=`hinge` is not supported.\nSchema of constraint 1: {\n    \"description\": \"The combination of penalty=`l1` and loss=`hinge` is not supported\",\n    \"anyOf\": [\n        {\"type\": \"object\", \"properties\": {\"penalty\": {\"enum\": [\"l2\"]}}},\n        {\n            \"type\": \"object\",\n            \"properties\": {\"loss\": {\"enum\": [\"squared_hinge\"]}},\n        },\n    ],\n}\nValue: {'penalty': 'l1', 'loss': 'hinge', 'dual': True, 'tol': 0.0001, 'C': 1.0, 'multi_class': 'ovr', 'fit_intercept': True, 'intercept_scaling': 1.0, 'class_weight': None, 'verbose': 0, 'random_state': None, 'max_iter': 1000}",
     "output_type": "error",
     "traceback": [
      "\u001b[0;31m---------------------------------------------------------------------------\u001b[0m",
      "\u001b[0;31mValidationError\u001b[0m                           Traceback (most recent call last)",
      "\u001b[0;32m<ipython-input-6-403f4f9e4572>\u001b[0m in \u001b[0;36m<module>\u001b[0;34m\u001b[0m\n\u001b[1;32m      1\u001b[0m \u001b[0;32mfrom\u001b[0m \u001b[0mlale\u001b[0m\u001b[0;34m.\u001b[0m\u001b[0mlib\u001b[0m\u001b[0;34m.\u001b[0m\u001b[0msklearn\u001b[0m \u001b[0;32mimport\u001b[0m \u001b[0mLinearSVC\u001b[0m\u001b[0;34m\u001b[0m\u001b[0;34m\u001b[0m\u001b[0m\n\u001b[0;32m----> 2\u001b[0;31m \u001b[0mpipeline3\u001b[0m \u001b[0;34m=\u001b[0m \u001b[0mSelectKBest\u001b[0m\u001b[0;34m(\u001b[0m\u001b[0mk\u001b[0m\u001b[0;34m=\u001b[0m\u001b[0;36m15\u001b[0m\u001b[0;34m)\u001b[0m \u001b[0;34m>>\u001b[0m \u001b[0mLinearSVC\u001b[0m\u001b[0;34m(\u001b[0m\u001b[0mpenalty\u001b[0m\u001b[0;34m=\u001b[0m\u001b[0;34m\"l1\"\u001b[0m\u001b[0;34m,\u001b[0m \u001b[0mloss\u001b[0m\u001b[0;34m=\u001b[0m\u001b[0;34m\"hinge\"\u001b[0m\u001b[0;34m)\u001b[0m\u001b[0;34m\u001b[0m\u001b[0;34m\u001b[0m\u001b[0m\n\u001b[0m",
      "\u001b[0;32m~/.pyenv/versions/3.7.9/lib/python3.7/site-packages/lale/operators.py\u001b[0m in \u001b[0;36m__call__\u001b[0;34m(self, *args, **kwargs)\u001b[0m\n\u001b[1;32m   1516\u001b[0m \u001b[0;34m\u001b[0m\u001b[0m\n\u001b[1;32m   1517\u001b[0m     \u001b[0;32mdef\u001b[0m \u001b[0m__call__\u001b[0m\u001b[0;34m(\u001b[0m\u001b[0mself\u001b[0m\u001b[0;34m,\u001b[0m \u001b[0;34m*\u001b[0m\u001b[0margs\u001b[0m\u001b[0;34m,\u001b[0m \u001b[0;34m**\u001b[0m\u001b[0mkwargs\u001b[0m\u001b[0;34m)\u001b[0m \u001b[0;34m->\u001b[0m \u001b[0;34m\"TrainableIndividualOp\"\u001b[0m\u001b[0;34m:\u001b[0m\u001b[0;34m\u001b[0m\u001b[0;34m\u001b[0m\u001b[0m\n\u001b[0;32m-> 1518\u001b[0;31m         \u001b[0;32mreturn\u001b[0m \u001b[0mself\u001b[0m\u001b[0;34m.\u001b[0m\u001b[0m_configure\u001b[0m\u001b[0;34m(\u001b[0m\u001b[0;34m*\u001b[0m\u001b[0margs\u001b[0m\u001b[0;34m,\u001b[0m \u001b[0;34m**\u001b[0m\u001b[0mkwargs\u001b[0m\u001b[0;34m)\u001b[0m\u001b[0;34m\u001b[0m\u001b[0;34m\u001b[0m\u001b[0m\n\u001b[0m\u001b[1;32m   1519\u001b[0m \u001b[0;34m\u001b[0m\u001b[0m\n\u001b[1;32m   1520\u001b[0m     \u001b[0;32mdef\u001b[0m \u001b[0m_hyperparam_schema_with_hyperparams\u001b[0m\u001b[0;34m(\u001b[0m\u001b[0mself\u001b[0m\u001b[0;34m,\u001b[0m \u001b[0mdata_schema\u001b[0m\u001b[0;34m=\u001b[0m\u001b[0;34m{\u001b[0m\u001b[0;34m}\u001b[0m\u001b[0;34m)\u001b[0m\u001b[0;34m:\u001b[0m\u001b[0;34m\u001b[0m\u001b[0;34m\u001b[0m\u001b[0m\n",
      "\u001b[0;32m~/.pyenv/versions/3.7.9/lib/python3.7/site-packages/lale/operators.py\u001b[0m in \u001b[0;36m_configure\u001b[0;34m(self, *args, **kwargs)\u001b[0m\n\u001b[1;32m   1492\u001b[0m         \u001b[0mtrainable_to_get_params\u001b[0m\u001b[0;34m.\u001b[0m\u001b[0m_hyperparams\u001b[0m \u001b[0;34m=\u001b[0m \u001b[0mhyperparams\u001b[0m\u001b[0;34m\u001b[0m\u001b[0;34m\u001b[0m\u001b[0m\n\u001b[1;32m   1493\u001b[0m         \u001b[0mparams_all\u001b[0m \u001b[0;34m=\u001b[0m \u001b[0mtrainable_to_get_params\u001b[0m\u001b[0;34m.\u001b[0m\u001b[0m_get_params_all\u001b[0m\u001b[0;34m(\u001b[0m\u001b[0;34m)\u001b[0m\u001b[0;34m\u001b[0m\u001b[0;34m\u001b[0m\u001b[0m\n\u001b[0;32m-> 1494\u001b[0;31m         \u001b[0mself\u001b[0m\u001b[0;34m.\u001b[0m\u001b[0m_validate_hyperparams\u001b[0m\u001b[0;34m(\u001b[0m\u001b[0mhyperparams\u001b[0m\u001b[0;34m,\u001b[0m \u001b[0mparams_all\u001b[0m\u001b[0;34m,\u001b[0m \u001b[0mself\u001b[0m\u001b[0;34m.\u001b[0m\u001b[0mhyperparam_schema\u001b[0m\u001b[0;34m(\u001b[0m\u001b[0;34m)\u001b[0m\u001b[0;34m)\u001b[0m\u001b[0;34m\u001b[0m\u001b[0;34m\u001b[0m\u001b[0m\n\u001b[0m\u001b[1;32m   1495\u001b[0m         \u001b[0;32mif\u001b[0m \u001b[0mlen\u001b[0m\u001b[0;34m(\u001b[0m\u001b[0mparams_all\u001b[0m\u001b[0;34m)\u001b[0m \u001b[0;34m==\u001b[0m \u001b[0;36m0\u001b[0m\u001b[0;34m:\u001b[0m\u001b[0;34m\u001b[0m\u001b[0;34m\u001b[0m\u001b[0m\n\u001b[1;32m   1496\u001b[0m             \u001b[0mimpl\u001b[0m \u001b[0;34m=\u001b[0m \u001b[0mclass_\u001b[0m\u001b[0;34m(\u001b[0m\u001b[0;34m)\u001b[0m\u001b[0;34m\u001b[0m\u001b[0;34m\u001b[0m\u001b[0m\n",
      "\u001b[0;32m~/.pyenv/versions/3.7.9/lib/python3.7/site-packages/lale/operators.py\u001b[0m in \u001b[0;36m_validate_hyperparams\u001b[0;34m(self, hp_explicit, hp_all, hp_schema)\u001b[0m\n\u001b[1;32m   1314\u001b[0m                 \u001b[0;34m+\u001b[0m \u001b[0;34mf\"Value: {e.instance}\"\u001b[0m\u001b[0;34m\u001b[0m\u001b[0;34m\u001b[0m\u001b[0m\n\u001b[1;32m   1315\u001b[0m             )\n\u001b[0;32m-> 1316\u001b[0;31m             \u001b[0;32mraise\u001b[0m \u001b[0mjsonschema\u001b[0m\u001b[0;34m.\u001b[0m\u001b[0mValidationError\u001b[0m\u001b[0;34m(\u001b[0m\u001b[0mmsg\u001b[0m\u001b[0;34m)\u001b[0m\u001b[0;34m\u001b[0m\u001b[0;34m\u001b[0m\u001b[0m\n\u001b[0m\u001b[1;32m   1317\u001b[0m \u001b[0;34m\u001b[0m\u001b[0m\n\u001b[1;32m   1318\u001b[0m     \u001b[0;32mdef\u001b[0m \u001b[0mvalidate_schema\u001b[0m\u001b[0;34m(\u001b[0m\u001b[0mself\u001b[0m\u001b[0;34m,\u001b[0m \u001b[0mX\u001b[0m\u001b[0;34m,\u001b[0m \u001b[0my\u001b[0m\u001b[0;34m=\u001b[0m\u001b[0;32mNone\u001b[0m\u001b[0;34m)\u001b[0m\u001b[0;34m:\u001b[0m\u001b[0;34m\u001b[0m\u001b[0;34m\u001b[0m\u001b[0m\n",
      "\u001b[0;31mValidationError\u001b[0m: Invalid configuration for LinearSVC(penalty='l1', loss='hinge') due to constraint the combination of penalty=`l1` and loss=`hinge` is not supported.\nSchema of constraint 1: {\n    \"description\": \"The combination of penalty=`l1` and loss=`hinge` is not supported\",\n    \"anyOf\": [\n        {\"type\": \"object\", \"properties\": {\"penalty\": {\"enum\": [\"l2\"]}}},\n        {\n            \"type\": \"object\",\n            \"properties\": {\"loss\": {\"enum\": [\"squared_hinge\"]}},\n        },\n    ],\n}\nValue: {'penalty': 'l1', 'loss': 'hinge', 'dual': True, 'tol': 0.0001, 'C': 1.0, 'multi_class': 'ovr', 'fit_intercept': True, 'intercept_scaling': 1.0, 'class_weight': None, 'verbose': 0, 'random_state': None, 'max_iter': 1000}"
     ]
    }
   ],
   "source": [
    "from lale.lib.sklearn import LinearSVC\n",
    "pipeline3 = SelectKBest(k=15) >> LinearSVC(penalty=\"l1\", loss=\"hinge\")"
   ]
  },
  {
   "cell_type": "code",
   "execution_count": 7,
   "metadata": {},
   "outputs": [
    {
     "ename": "NameError",
     "evalue": "name 'pipeline3' is not defined",
     "output_type": "error",
     "traceback": [
      "\u001b[0;31m---------------------------------------------------------------------------\u001b[0m",
      "\u001b[0;31mNameError\u001b[0m                                 Traceback (most recent call last)",
      "\u001b[0;32m<ipython-input-7-a7a03ce211d4>\u001b[0m in \u001b[0;36m<module>\u001b[0;34m\u001b[0m\n\u001b[0;32m----> 1\u001b[0;31m \u001b[0mtrained3\u001b[0m \u001b[0;34m=\u001b[0m \u001b[0mpipeline3\u001b[0m\u001b[0;34m.\u001b[0m\u001b[0mfit\u001b[0m\u001b[0;34m(\u001b[0m\u001b[0mtrain_X\u001b[0m\u001b[0;34m,\u001b[0m \u001b[0mtrain_y\u001b[0m\u001b[0;34m)\u001b[0m\u001b[0;34m\u001b[0m\u001b[0;34m\u001b[0m\u001b[0m\n\u001b[0m\u001b[1;32m      2\u001b[0m \u001b[0mpred_y\u001b[0m \u001b[0;34m=\u001b[0m \u001b[0mtrained3\u001b[0m\u001b[0;34m.\u001b[0m\u001b[0mpredict\u001b[0m\u001b[0;34m(\u001b[0m\u001b[0mtest_X\u001b[0m\u001b[0;34m)\u001b[0m\u001b[0;34m\u001b[0m\u001b[0;34m\u001b[0m\u001b[0m\n",
      "\u001b[0;31mNameError\u001b[0m: name 'pipeline3' is not defined"
     ]
    }
   ],
   "source": [
    "trained3 = pipeline3.fit(train_X, train_y)\n",
    "pred_y = trained3.predict(test_X)"
   ]
  },
  {
   "cell_type": "markdown",
   "metadata": {},
   "source": [
    "Make a small change to the pipeline to avoid that error.\n",
    "\n",
    "Handy documentation links:\n",
    "- [Lale docs for LinearSVC](https://lale.readthedocs.io/en/latest/modules/lale.lib.sklearn.linear_svc.html)\n",
    "- [sklearn docs for LinearSVC](https://scikit-learn.org/stable/modules/generated/sklearn.svm.LinearSVC.html),\n",
    "\n",
    "### Answer for Step 3."
   ]
  },
  {
   "cell_type": "code",
   "execution_count": null,
   "metadata": {},
   "outputs": [],
   "source": [
    "# Please fix the reproduced pipeline in the cells below:\n",
    "\n",
    "from lale.lib.sklearn import LinearSVC\n",
    "pipeline3 = SelectKBest(k=15) >> LinearSVC(penalty=\"l1\", loss=\"hinge\")"
   ]
  },
  {
   "cell_type": "code",
   "execution_count": null,
   "metadata": {},
   "outputs": [],
   "source": [
    "trained3 = pipeline3.fit(train_X, train_y)\n",
    "pred_y = trained3.predict(test_X)"
   ]
  },
  {
   "cell_type": "markdown",
   "metadata": {},
   "source": [
    "### Questions about Step 3.\n",
    "\n",
    "- Q3a. What caused the error?\n",
    "- Q3b. Which documentation if any did you find useful for diagnosing the error?\n",
    "- Q3c. What parts of the error message if any did you find useful?\n",
    "- Q3d. How do you normally debug machine learning pipelines?"
   ]
  },
  {
   "cell_type": "markdown",
   "metadata": {},
   "source": [
    "## Step 4. Refine with Search\n",
    "\n",
    "Experiment with a search space of variants of `pipeline1` (from Question 1):\n",
    "\n",
    "- normalizers: Normalizer, StandardScaler, or neither\n",
    "- classifiers: LogisticRegression, ExtraTreesClassifier,\n",
    "  KNeighborsClassifier, or DecisionTreeClassifier\n",
    "\n",
    "Find the pipeline variant with the best predictive performance. You do not need to consider ensembles.\n",
    "\n",
    "Handy documentation links:\n",
    "- [Lale API](https://lale.readthedocs.io/en/latest/)\n",
    "- [scikit-learn API](https://scikit-learn.org/stable/modules/classes.html)\n",
    "\n",
    "### Answer for Step 4."
   ]
  },
  {
   "cell_type": "code",
   "execution_count": 10,
   "metadata": {},
   "outputs": [
    {
     "name": "stdout",
     "output_type": "stream",
     "text": [
      "accuracy 64.8%\n"
     ]
    }
   ],
   "source": [
    "from lale.lib.sklearn import StandardScaler\n",
    "from lale.lib.sklearn import LogisticRegression, ExtraTreesClassifier, DecisionTreeClassifier\n",
    "\n",
    "# pipeline1 reproduced below:\n",
    "prepA = Project(drop_columns=categorical(max_values=2)) >> Normalizer()\n",
    "prepB = Project(columns=categorical(max_values=2)) >> SelectKBest(k=8)\n",
    "pipeline1 = (prepA & prepB) >> ConcatFeatures >> KNeighborsClassifier()\n",
    "\n",
    "trained1 = pipeline1.fit(train_X, train_y)\n",
    "print(f\"accuracy {accuracy_score(test_y, trained1.predict(test_X)):.1%}\")\n",
    "\n",
    "# your code here"
   ]
  },
  {
   "cell_type": "markdown",
   "metadata": {},
   "source": [
    "### Questions about Step 4.\n",
    "\n",
    "- Q4a. Which pipeline variant lead to the highest accuracy?\n",
    "- Q4b. What was the accuracy of that pipeline variant?\n",
    "- Q4c. Did your new pipeline work the first time? If not, what went wrong?\n",
    "- Q4d. What gotchas did you encounter, if any?\n",
    "- Q4e. How do you normally search across pipeline variants?"
   ]
  }
 ],
 "metadata": {
  "kernelspec": {
   "display_name": "Python 3",
   "language": "python",
   "name": "python3"
  },
  "language_info": {
   "codemirror_mode": {
    "name": "ipython",
    "version": 3
   },
   "file_extension": ".py",
   "mimetype": "text/x-python",
   "name": "python",
   "nbconvert_exporter": "python",
   "pygments_lexer": "ipython3",
   "version": "3.7.9"
  }
 },
 "nbformat": 4,
 "nbformat_minor": 2
}
