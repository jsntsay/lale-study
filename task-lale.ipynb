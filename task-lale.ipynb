{
 "cells": [
  {
   "cell_type": "markdown",
   "metadata": {},
   "source": [
    "# Lale User Study - March 2021 - Lale treatment\n",
    "\n",
    "Before we start, we load a dataset and print a few rows to see what it looks like."
   ]
  },
  {
   "cell_type": "code",
   "execution_count": null,
   "metadata": {},
   "outputs": [],
   "source": [
    "#load forest covertype data, downsample for faster experiments\n",
    "import pandas as pd\n",
    "from lale.datasets import covtype_df\n",
    "from sklearn.model_selection import train_test_split\n",
    "from lale.lib.lale import categorical\n",
    "\n",
    "train_X = pd.read_pickle(\"train_x.pickle\")\n",
    "test_X = pd.read_pickle(\"test_x.pickle\")\n",
    "train_y = pd.read_pickle(\"train_y.pickle\")\n",
    "test_y = pd.read_pickle(\"test_y.pickle\")\n",
    "\n",
    "pd.options.display.max_columns = None\n",
    "pd.concat([train_y, train_X], axis=1)"
   ]
  },
  {
   "cell_type": "markdown",
   "metadata": {},
   "source": [
    "## Step 1. Understand a Pipeline\n",
    "\n",
    "Consider the following Lale pipeline:"
   ]
  },
  {
   "cell_type": "code",
   "execution_count": null,
   "metadata": {},
   "outputs": [],
   "source": [
    "from lale.lib.sklearn import Normalizer\n",
    "from lale.lib.sklearn import SelectKBest\n",
    "from lale.lib.sklearn import KNeighborsClassifier\n",
    "from lale.lib.lale import Project\n",
    "from lale.lib.lale import categorical\n",
    "from lale.lib.lale import ConcatFeatures"
   ]
  },
  {
   "cell_type": "code",
   "execution_count": null,
   "metadata": {},
   "outputs": [],
   "source": [
    "prepA = Project(drop_columns=categorical(max_values=2)) >> Normalizer()\n",
    "prepB = Project(columns=categorical(max_values=2)) >> SelectKBest(k=8)\n",
    "pipeline1 = (prepA & prepB) >> ConcatFeatures >> KNeighborsClassifier()"
   ]
  },
  {
   "cell_type": "code",
   "execution_count": null,
   "metadata": {},
   "outputs": [],
   "source": [
    "from sklearn.metrics import accuracy_score\n",
    "trained1 = pipeline1.fit(train_X, train_y)\n",
    "print(f\"accuracy {accuracy_score(test_y, trained1.predict(test_X)):.1%}\")"
   ]
  },
  {
   "cell_type": "markdown",
   "metadata": {},
   "source": [
    "Please answer the following questions.\n",
    "\n",
    "- Q1a: What is the final classifier in the pipeline?\n",
    "- Q1b: Where does the input for the final classifier come from?\n",
    "- Q1c: Which columns are subjected to feature selection?\n",
    "- Q1d: Why do you think the pipeline contains feature selection there?\n",
    "\n",
    "Handy documentation links:\n",
    "[Lale API](https://lale.readthedocs.io/en/latest/),\n",
    "[scikit-learn API](https://scikit-learn.org/stable/modules/classes.html)."
   ]
  },
  {
   "cell_type": "code",
   "execution_count": null,
   "metadata": {},
   "outputs": [],
   "source": [
    "# if you'd like to try things out, put your code here"
   ]
  },
  {
   "cell_type": "markdown",
   "metadata": {},
   "source": [
    "### Answer for Step 1.\n",
    "\n",
    "- Q1a: (your answer here)\n",
    "- Q1b: (your answer here)\n",
    "- Q1c: (your answer here)\n",
    "- Q1d: (just say your answer, no need to write it down)"
   ]
  },
  {
   "cell_type": "markdown",
   "metadata": {},
   "source": [
    "## 2. Refine without Search\n",
    "\n",
    "Create a `pipeline2` that is similar to `pipeline1` from Question 1, except\n",
    "that instead of Normalizer, it uses a StandardScaler, and\n",
    "instead of KNeighborsClassifier, it uses a DecisionTreeClassifier with\n",
    "a maximum depth of 3. Handy documentation links:\n",
    "[Lale API](https://lale.readthedocs.io/en/latest/),\n",
    "[scikit-learn API](https://scikit-learn.org/stable/modules/classes.html)."
   ]
  },
  {
   "cell_type": "markdown",
   "metadata": {},
   "source": [
    "### Answer for Step 2."
   ]
  },
  {
   "cell_type": "code",
   "execution_count": null,
   "metadata": {},
   "outputs": [],
   "source": [
    "# your code here"
   ]
  },
  {
   "cell_type": "markdown",
   "metadata": {},
   "source": [
    "### Questions about Step 2.\n",
    "\n",
    "- Q2a. What documentation did you find the most helpful?\n",
    "- Q2b. Did your new pipeline work the first time? If not, what went wrong?\n",
    "- Q2c. What gotchas did you encounter, if any?"
   ]
  },
  {
   "cell_type": "markdown",
   "metadata": {},
   "source": [
    "## Step 3. Refine with Search\n",
    "\n",
    "Experiment with a search space of variants of `pipeline1` (from Question 1):\n",
    "\n",
    "- normalizers: Normalizer, StandardScaler, or neither\n",
    "- classifiers: LogisticRegression, ExtraTreesClassifier,\n",
    "  KNeighborsClassifier, or DecisionTreeClassifier\n",
    "\n",
    "Find the one with the best predictive performance.\n",
    "\n",
    "### Answer for Step 3."
   ]
  },
  {
   "cell_type": "code",
   "execution_count": null,
   "metadata": {},
   "outputs": [],
   "source": [
    "# your code here"
   ]
  },
  {
   "cell_type": "markdown",
   "metadata": {},
   "source": [
    "### Questions about Step 3.\n",
    "\n",
    "- Q3a. Which pipeline variant lead to the highest accuracy?\n",
    "- Q3b. What was the accuracy of that pipeline variant?\n",
    "- Q3c. Did your new pipeline work the first time? If not, what went wrong?\n",
    "- Q3d. What gotchas did you encounter, if any?\n",
    "- Q3e. How do you normally search across pipeline variants?"
   ]
  },
  {
   "cell_type": "markdown",
   "metadata": {},
   "source": [
    "## Step 4. Error Messages\n",
    "\n",
    "Look at the error message from the following code:"
   ]
  },
  {
   "cell_type": "code",
   "execution_count": 4,
   "metadata": {},
   "outputs": [
    {
     "ename": "ValidationError",
     "evalue": "Invalid configuration for LinearSVC(penalty='l1', loss='hinge') due to constraint the combination of penalty=`l1` and loss=`hinge` is not supported.\nSchema of constraint 1: {\n    \"description\": \"The combination of penalty=`l1` and loss=`hinge` is not supported\",\n    \"anyOf\": [\n        {\"type\": \"object\", \"properties\": {\"penalty\": {\"enum\": [\"l2\"]}}},\n        {\n            \"type\": \"object\",\n            \"properties\": {\"loss\": {\"enum\": [\"squared_hinge\"]}},\n        },\n    ],\n}\nValue: {'penalty': 'l1', 'loss': 'hinge', 'dual': True, 'tol': 0.0001, 'C': 1.0, 'multi_class': 'ovr', 'fit_intercept': True, 'intercept_scaling': 1.0, 'class_weight': None, 'verbose': 0, 'random_state': None, 'max_iter': 1000}",
     "output_type": "error",
     "traceback": [
      "\u001b[0;31m---------------------------------------------------------------------------\u001b[0m",
      "\u001b[0;31mValidationError\u001b[0m                           Traceback (most recent call last)",
      "\u001b[0;32m<ipython-input-4-ed2877e847ad>\u001b[0m in \u001b[0;36m<module>\u001b[0;34m\u001b[0m\n\u001b[1;32m      1\u001b[0m \u001b[0;32mfrom\u001b[0m \u001b[0mlale\u001b[0m\u001b[0;34m.\u001b[0m\u001b[0mlib\u001b[0m\u001b[0;34m.\u001b[0m\u001b[0msklearn\u001b[0m \u001b[0;32mimport\u001b[0m \u001b[0mLinearSVC\u001b[0m\u001b[0;34m\u001b[0m\u001b[0;34m\u001b[0m\u001b[0m\n\u001b[0;32m----> 2\u001b[0;31m \u001b[0mpipeline4\u001b[0m \u001b[0;34m=\u001b[0m \u001b[0mSelectKBest\u001b[0m\u001b[0;34m(\u001b[0m\u001b[0mk\u001b[0m\u001b[0;34m=\u001b[0m\u001b[0;36m15\u001b[0m\u001b[0;34m)\u001b[0m \u001b[0;34m>>\u001b[0m \u001b[0mLinearSVC\u001b[0m\u001b[0;34m(\u001b[0m\u001b[0mpenalty\u001b[0m\u001b[0;34m=\u001b[0m\u001b[0;34m\"l1\"\u001b[0m\u001b[0;34m,\u001b[0m \u001b[0mloss\u001b[0m\u001b[0;34m=\u001b[0m\u001b[0;34m\"hinge\"\u001b[0m\u001b[0;34m)\u001b[0m\u001b[0;34m\u001b[0m\u001b[0;34m\u001b[0m\u001b[0m\n\u001b[0m\u001b[1;32m      3\u001b[0m \u001b[0mtrained4\u001b[0m \u001b[0;34m=\u001b[0m \u001b[0mpipeline4\u001b[0m\u001b[0;34m.\u001b[0m\u001b[0mfit\u001b[0m\u001b[0;34m(\u001b[0m\u001b[0mtrain_X\u001b[0m\u001b[0;34m,\u001b[0m \u001b[0mtrain_y\u001b[0m\u001b[0;34m)\u001b[0m\u001b[0;34m\u001b[0m\u001b[0;34m\u001b[0m\u001b[0m\n\u001b[1;32m      4\u001b[0m \u001b[0mpred_y\u001b[0m \u001b[0;34m=\u001b[0m \u001b[0mtrained4\u001b[0m\u001b[0;34m.\u001b[0m\u001b[0mpredict\u001b[0m\u001b[0;34m(\u001b[0m\u001b[0mtest_X\u001b[0m\u001b[0;34m)\u001b[0m\u001b[0;34m\u001b[0m\u001b[0;34m\u001b[0m\u001b[0m\n",
      "\u001b[0;32m~/.pyenv/versions/3.7.9/lib/python3.7/site-packages/lale/operators.py\u001b[0m in \u001b[0;36m__call__\u001b[0;34m(self, *args, **kwargs)\u001b[0m\n\u001b[1;32m   1516\u001b[0m \u001b[0;34m\u001b[0m\u001b[0m\n\u001b[1;32m   1517\u001b[0m     \u001b[0;32mdef\u001b[0m \u001b[0m__call__\u001b[0m\u001b[0;34m(\u001b[0m\u001b[0mself\u001b[0m\u001b[0;34m,\u001b[0m \u001b[0;34m*\u001b[0m\u001b[0margs\u001b[0m\u001b[0;34m,\u001b[0m \u001b[0;34m**\u001b[0m\u001b[0mkwargs\u001b[0m\u001b[0;34m)\u001b[0m \u001b[0;34m->\u001b[0m \u001b[0;34m\"TrainableIndividualOp\"\u001b[0m\u001b[0;34m:\u001b[0m\u001b[0;34m\u001b[0m\u001b[0;34m\u001b[0m\u001b[0m\n\u001b[0;32m-> 1518\u001b[0;31m         \u001b[0;32mreturn\u001b[0m \u001b[0mself\u001b[0m\u001b[0;34m.\u001b[0m\u001b[0m_configure\u001b[0m\u001b[0;34m(\u001b[0m\u001b[0;34m*\u001b[0m\u001b[0margs\u001b[0m\u001b[0;34m,\u001b[0m \u001b[0;34m**\u001b[0m\u001b[0mkwargs\u001b[0m\u001b[0;34m)\u001b[0m\u001b[0;34m\u001b[0m\u001b[0;34m\u001b[0m\u001b[0m\n\u001b[0m\u001b[1;32m   1519\u001b[0m \u001b[0;34m\u001b[0m\u001b[0m\n\u001b[1;32m   1520\u001b[0m     \u001b[0;32mdef\u001b[0m \u001b[0m_hyperparam_schema_with_hyperparams\u001b[0m\u001b[0;34m(\u001b[0m\u001b[0mself\u001b[0m\u001b[0;34m,\u001b[0m \u001b[0mdata_schema\u001b[0m\u001b[0;34m=\u001b[0m\u001b[0;34m{\u001b[0m\u001b[0;34m}\u001b[0m\u001b[0;34m)\u001b[0m\u001b[0;34m:\u001b[0m\u001b[0;34m\u001b[0m\u001b[0;34m\u001b[0m\u001b[0m\n",
      "\u001b[0;32m~/.pyenv/versions/3.7.9/lib/python3.7/site-packages/lale/operators.py\u001b[0m in \u001b[0;36m_configure\u001b[0;34m(self, *args, **kwargs)\u001b[0m\n\u001b[1;32m   1492\u001b[0m         \u001b[0mtrainable_to_get_params\u001b[0m\u001b[0;34m.\u001b[0m\u001b[0m_hyperparams\u001b[0m \u001b[0;34m=\u001b[0m \u001b[0mhyperparams\u001b[0m\u001b[0;34m\u001b[0m\u001b[0;34m\u001b[0m\u001b[0m\n\u001b[1;32m   1493\u001b[0m         \u001b[0mparams_all\u001b[0m \u001b[0;34m=\u001b[0m \u001b[0mtrainable_to_get_params\u001b[0m\u001b[0;34m.\u001b[0m\u001b[0m_get_params_all\u001b[0m\u001b[0;34m(\u001b[0m\u001b[0;34m)\u001b[0m\u001b[0;34m\u001b[0m\u001b[0;34m\u001b[0m\u001b[0m\n\u001b[0;32m-> 1494\u001b[0;31m         \u001b[0mself\u001b[0m\u001b[0;34m.\u001b[0m\u001b[0m_validate_hyperparams\u001b[0m\u001b[0;34m(\u001b[0m\u001b[0mhyperparams\u001b[0m\u001b[0;34m,\u001b[0m \u001b[0mparams_all\u001b[0m\u001b[0;34m,\u001b[0m \u001b[0mself\u001b[0m\u001b[0;34m.\u001b[0m\u001b[0mhyperparam_schema\u001b[0m\u001b[0;34m(\u001b[0m\u001b[0;34m)\u001b[0m\u001b[0;34m)\u001b[0m\u001b[0;34m\u001b[0m\u001b[0;34m\u001b[0m\u001b[0m\n\u001b[0m\u001b[1;32m   1495\u001b[0m         \u001b[0;32mif\u001b[0m \u001b[0mlen\u001b[0m\u001b[0;34m(\u001b[0m\u001b[0mparams_all\u001b[0m\u001b[0;34m)\u001b[0m \u001b[0;34m==\u001b[0m \u001b[0;36m0\u001b[0m\u001b[0;34m:\u001b[0m\u001b[0;34m\u001b[0m\u001b[0;34m\u001b[0m\u001b[0m\n\u001b[1;32m   1496\u001b[0m             \u001b[0mimpl\u001b[0m \u001b[0;34m=\u001b[0m \u001b[0mclass_\u001b[0m\u001b[0;34m(\u001b[0m\u001b[0;34m)\u001b[0m\u001b[0;34m\u001b[0m\u001b[0;34m\u001b[0m\u001b[0m\n",
      "\u001b[0;32m~/.pyenv/versions/3.7.9/lib/python3.7/site-packages/lale/operators.py\u001b[0m in \u001b[0;36m_validate_hyperparams\u001b[0;34m(self, hp_explicit, hp_all, hp_schema)\u001b[0m\n\u001b[1;32m   1314\u001b[0m                 \u001b[0;34m+\u001b[0m \u001b[0;34mf\"Value: {e.instance}\"\u001b[0m\u001b[0;34m\u001b[0m\u001b[0;34m\u001b[0m\u001b[0m\n\u001b[1;32m   1315\u001b[0m             )\n\u001b[0;32m-> 1316\u001b[0;31m             \u001b[0;32mraise\u001b[0m \u001b[0mjsonschema\u001b[0m\u001b[0;34m.\u001b[0m\u001b[0mValidationError\u001b[0m\u001b[0;34m(\u001b[0m\u001b[0mmsg\u001b[0m\u001b[0;34m)\u001b[0m\u001b[0;34m\u001b[0m\u001b[0;34m\u001b[0m\u001b[0m\n\u001b[0m\u001b[1;32m   1317\u001b[0m \u001b[0;34m\u001b[0m\u001b[0m\n\u001b[1;32m   1318\u001b[0m     \u001b[0;32mdef\u001b[0m \u001b[0mvalidate_schema\u001b[0m\u001b[0;34m(\u001b[0m\u001b[0mself\u001b[0m\u001b[0;34m,\u001b[0m \u001b[0mX\u001b[0m\u001b[0;34m,\u001b[0m \u001b[0my\u001b[0m\u001b[0;34m=\u001b[0m\u001b[0;32mNone\u001b[0m\u001b[0;34m)\u001b[0m\u001b[0;34m:\u001b[0m\u001b[0;34m\u001b[0m\u001b[0;34m\u001b[0m\u001b[0m\n",
      "\u001b[0;31mValidationError\u001b[0m: Invalid configuration for LinearSVC(penalty='l1', loss='hinge') due to constraint the combination of penalty=`l1` and loss=`hinge` is not supported.\nSchema of constraint 1: {\n    \"description\": \"The combination of penalty=`l1` and loss=`hinge` is not supported\",\n    \"anyOf\": [\n        {\"type\": \"object\", \"properties\": {\"penalty\": {\"enum\": [\"l2\"]}}},\n        {\n            \"type\": \"object\",\n            \"properties\": {\"loss\": {\"enum\": [\"squared_hinge\"]}},\n        },\n    ],\n}\nValue: {'penalty': 'l1', 'loss': 'hinge', 'dual': True, 'tol': 0.0001, 'C': 1.0, 'multi_class': 'ovr', 'fit_intercept': True, 'intercept_scaling': 1.0, 'class_weight': None, 'verbose': 0, 'random_state': None, 'max_iter': 1000}"
     ]
    }
   ],
   "source": [
    "from lale.lib.sklearn import LinearSVC\n",
    "pipeline4 = SelectKBest(k=15) >> LinearSVC(penalty=\"l1\", loss=\"hinge\")\n",
    "trained4 = pipeline4.fit(train_X, train_y)\n",
    "pred_y = trained4.predict(test_X)"
   ]
  },
  {
   "cell_type": "markdown",
   "metadata": {},
   "source": [
    "Make a small change to the pipeline to avoid that error.\n",
    "\n",
    "Handy documentation links:\n",
    "[sklearn docs for LinearSVC](https://scikit-learn.org/stable/modules/generated/sklearn.svm.LinearSVC.html),\n",
    "[Lale docs for LinearSVC](https://lale.readthedocs.io/en/latest/modules/lale.lib.sklearn.linear_svc.html).\n",
    "\n",
    "### Answer for Step 4."
   ]
  },
  {
   "cell_type": "code",
   "execution_count": null,
   "metadata": {},
   "outputs": [],
   "source": [
    "# your code here"
   ]
  },
  {
   "cell_type": "markdown",
   "metadata": {},
   "source": [
    "### Questions about Step 4.\n",
    "\n",
    "- Q4a. What caused the error?\n",
    "- Q4b. Which documentation did you find useful for diagnosing the error?\n",
    "- Q4c. Was the schema in the error message useful?\n",
    "- Q4d. How do you normally debug machine learning pipelines?"
   ]
  }
 ],
 "metadata": {
  "kernelspec": {
   "display_name": "Python 3",
   "language": "python",
   "name": "python3"
  },
  "language_info": {
   "codemirror_mode": {
    "name": "ipython",
    "version": 3
   },
   "file_extension": ".py",
   "mimetype": "text/x-python",
   "name": "python",
   "nbconvert_exporter": "python",
   "pygments_lexer": "ipython3",
   "version": "3.7.9"
  }
 },
 "nbformat": 4,
 "nbformat_minor": 2
}
