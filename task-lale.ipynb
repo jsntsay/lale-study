{
 "cells": [
  {
   "cell_type": "markdown",
   "metadata": {},
   "source": [
    "# Lale User Study - March 2021 - Lale treatment\n",
    "\n",
    "The goal of this study is to examine different dimensions of usability of machine learning (ML) pipelines. We will provide a number of sample pipelines and ask you to analyze and manipulate them during 4 tasks:\n",
    "1. Understanding the pipeline\n",
    "1. Refinement\n",
    "1. Debugging\n",
    "1. Refinement with Search\n",
    "\n",
    "Before we start, we load a dataset and print a few rows to see what it looks like."
   ]
  },
  {
   "cell_type": "code",
   "execution_count": 3,
   "metadata": {},
   "outputs": [
    {
     "name": "stderr",
     "output_type": "stream",
     "text": [
      "/Users/jtsay/.pyenv/versions/3.7.9/lib/python3.7/site-packages/pyparsing.py:3190: FutureWarning: Possible set intersection at position 3\n",
      "  self.re = re.compile(self.reString)\n"
     ]
    },
    {
     "data": {
      "text/html": [
       "<div>\n",
       "<style scoped>\n",
       "    .dataframe tbody tr th:only-of-type {\n",
       "        vertical-align: middle;\n",
       "    }\n",
       "\n",
       "    .dataframe tbody tr th {\n",
       "        vertical-align: top;\n",
       "    }\n",
       "\n",
       "    .dataframe thead th {\n",
       "        text-align: right;\n",
       "    }\n",
       "</style>\n",
       "<table border=\"1\" class=\"dataframe\">\n",
       "  <thead>\n",
       "    <tr style=\"text-align: right;\">\n",
       "      <th></th>\n",
       "      <th>target</th>\n",
       "      <th>Elevation</th>\n",
       "      <th>Aspect</th>\n",
       "      <th>Slope</th>\n",
       "      <th>Horizontal_Distance_To_Hydrology</th>\n",
       "      <th>...</th>\n",
       "      <th>Soil_Type35</th>\n",
       "      <th>Soil_Type37</th>\n",
       "      <th>Soil_Type38</th>\n",
       "      <th>Soil_Type39</th>\n",
       "      <th>Soil_Type40</th>\n",
       "    </tr>\n",
       "  </thead>\n",
       "  <tbody>\n",
       "    <tr>\n",
       "      <th>507955</th>\n",
       "      <td>3</td>\n",
       "      <td>2575.0</td>\n",
       "      <td>272.0</td>\n",
       "      <td>5.0</td>\n",
       "      <td>481.0</td>\n",
       "      <td>...</td>\n",
       "      <td>0.0</td>\n",
       "      <td>0.0</td>\n",
       "      <td>0.0</td>\n",
       "      <td>0.0</td>\n",
       "      <td>0.0</td>\n",
       "    </tr>\n",
       "    <tr>\n",
       "      <th>381859</th>\n",
       "      <td>1</td>\n",
       "      <td>3406.0</td>\n",
       "      <td>162.0</td>\n",
       "      <td>14.0</td>\n",
       "      <td>631.0</td>\n",
       "      <td>...</td>\n",
       "      <td>0.0</td>\n",
       "      <td>0.0</td>\n",
       "      <td>1.0</td>\n",
       "      <td>0.0</td>\n",
       "      <td>0.0</td>\n",
       "    </tr>\n",
       "    <tr>\n",
       "      <th>316836</th>\n",
       "      <td>1</td>\n",
       "      <td>3020.0</td>\n",
       "      <td>304.0</td>\n",
       "      <td>9.0</td>\n",
       "      <td>108.0</td>\n",
       "      <td>...</td>\n",
       "      <td>0.0</td>\n",
       "      <td>0.0</td>\n",
       "      <td>0.0</td>\n",
       "      <td>0.0</td>\n",
       "      <td>0.0</td>\n",
       "    </tr>\n",
       "    <tr>\n",
       "      <th>556434</th>\n",
       "      <td>2</td>\n",
       "      <td>2740.0</td>\n",
       "      <td>69.0</td>\n",
       "      <td>17.0</td>\n",
       "      <td>67.0</td>\n",
       "      <td>...</td>\n",
       "      <td>0.0</td>\n",
       "      <td>0.0</td>\n",
       "      <td>0.0</td>\n",
       "      <td>0.0</td>\n",
       "      <td>0.0</td>\n",
       "    </tr>\n",
       "    <tr>\n",
       "      <th>275116</th>\n",
       "      <td>2</td>\n",
       "      <td>2706.0</td>\n",
       "      <td>258.0</td>\n",
       "      <td>8.0</td>\n",
       "      <td>201.0</td>\n",
       "      <td>...</td>\n",
       "      <td>0.0</td>\n",
       "      <td>0.0</td>\n",
       "      <td>0.0</td>\n",
       "      <td>0.0</td>\n",
       "      <td>0.0</td>\n",
       "    </tr>\n",
       "    <tr>\n",
       "      <th>...</th>\n",
       "      <td>...</td>\n",
       "      <td>...</td>\n",
       "      <td>...</td>\n",
       "      <td>...</td>\n",
       "      <td>...</td>\n",
       "      <td>...</td>\n",
       "      <td>...</td>\n",
       "      <td>...</td>\n",
       "      <td>...</td>\n",
       "      <td>...</td>\n",
       "      <td>...</td>\n",
       "    </tr>\n",
       "    <tr>\n",
       "      <th>538389</th>\n",
       "      <td>2</td>\n",
       "      <td>2860.0</td>\n",
       "      <td>324.0</td>\n",
       "      <td>13.0</td>\n",
       "      <td>0.0</td>\n",
       "      <td>...</td>\n",
       "      <td>0.0</td>\n",
       "      <td>0.0</td>\n",
       "      <td>0.0</td>\n",
       "      <td>0.0</td>\n",
       "      <td>0.0</td>\n",
       "    </tr>\n",
       "    <tr>\n",
       "      <th>527299</th>\n",
       "      <td>2</td>\n",
       "      <td>2653.0</td>\n",
       "      <td>314.0</td>\n",
       "      <td>22.0</td>\n",
       "      <td>30.0</td>\n",
       "      <td>...</td>\n",
       "      <td>0.0</td>\n",
       "      <td>0.0</td>\n",
       "      <td>0.0</td>\n",
       "      <td>0.0</td>\n",
       "      <td>0.0</td>\n",
       "    </tr>\n",
       "    <tr>\n",
       "      <th>169780</th>\n",
       "      <td>1</td>\n",
       "      <td>3279.0</td>\n",
       "      <td>7.0</td>\n",
       "      <td>15.0</td>\n",
       "      <td>713.0</td>\n",
       "      <td>...</td>\n",
       "      <td>0.0</td>\n",
       "      <td>0.0</td>\n",
       "      <td>0.0</td>\n",
       "      <td>0.0</td>\n",
       "      <td>0.0</td>\n",
       "    </tr>\n",
       "    <tr>\n",
       "      <th>296001</th>\n",
       "      <td>1</td>\n",
       "      <td>3149.0</td>\n",
       "      <td>156.0</td>\n",
       "      <td>9.0</td>\n",
       "      <td>90.0</td>\n",
       "      <td>...</td>\n",
       "      <td>0.0</td>\n",
       "      <td>0.0</td>\n",
       "      <td>0.0</td>\n",
       "      <td>0.0</td>\n",
       "      <td>0.0</td>\n",
       "    </tr>\n",
       "    <tr>\n",
       "      <th>449087</th>\n",
       "      <td>2</td>\n",
       "      <td>2713.0</td>\n",
       "      <td>63.0</td>\n",
       "      <td>7.0</td>\n",
       "      <td>192.0</td>\n",
       "      <td>...</td>\n",
       "      <td>0.0</td>\n",
       "      <td>0.0</td>\n",
       "      <td>0.0</td>\n",
       "      <td>0.0</td>\n",
       "      <td>0.0</td>\n",
       "    </tr>\n",
       "  </tbody>\n",
       "</table>\n",
       "<p>10000 rows × 53 columns</p>\n",
       "</div>"
      ],
      "text/plain": [
       "        target  Elevation  Aspect  Slope  Horizontal_Distance_To_Hydrology  \\\n",
       "507955       3     2575.0   272.0    5.0                             481.0   \n",
       "381859       1     3406.0   162.0   14.0                             631.0   \n",
       "316836       1     3020.0   304.0    9.0                             108.0   \n",
       "556434       2     2740.0    69.0   17.0                              67.0   \n",
       "275116       2     2706.0   258.0    8.0                             201.0   \n",
       "...        ...        ...     ...    ...                               ...   \n",
       "538389       2     2860.0   324.0   13.0                               0.0   \n",
       "527299       2     2653.0   314.0   22.0                              30.0   \n",
       "169780       1     3279.0     7.0   15.0                             713.0   \n",
       "296001       1     3149.0   156.0    9.0                              90.0   \n",
       "449087       2     2713.0    63.0    7.0                             192.0   \n",
       "\n",
       "        ...  Soil_Type35  Soil_Type37  Soil_Type38  Soil_Type39  Soil_Type40  \n",
       "507955  ...          0.0          0.0          0.0          0.0          0.0  \n",
       "381859  ...          0.0          0.0          1.0          0.0          0.0  \n",
       "316836  ...          0.0          0.0          0.0          0.0          0.0  \n",
       "556434  ...          0.0          0.0          0.0          0.0          0.0  \n",
       "275116  ...          0.0          0.0          0.0          0.0          0.0  \n",
       "...     ...          ...          ...          ...          ...          ...  \n",
       "538389  ...          0.0          0.0          0.0          0.0          0.0  \n",
       "527299  ...          0.0          0.0          0.0          0.0          0.0  \n",
       "169780  ...          0.0          0.0          0.0          0.0          0.0  \n",
       "296001  ...          0.0          0.0          0.0          0.0          0.0  \n",
       "449087  ...          0.0          0.0          0.0          0.0          0.0  \n",
       "\n",
       "[10000 rows x 53 columns]"
      ]
     },
     "execution_count": 3,
     "metadata": {},
     "output_type": "execute_result"
    }
   ],
   "source": [
    "#load forest covertype data, downsample for faster experiments\n",
    "import pandas as pd\n",
    "from lale.datasets import covtype_df\n",
    "from sklearn.model_selection import train_test_split\n",
    "from lale.lib.lale import categorical\n",
    "\n",
    "train_X = pd.read_pickle(\"train_x.pickle\")\n",
    "test_X = pd.read_pickle(\"test_x.pickle\")\n",
    "train_y = pd.read_pickle(\"train_y.pickle\")\n",
    "test_y = pd.read_pickle(\"test_y.pickle\")\n",
    "\n",
    "pd.options.display.max_columns = 10\n",
    "pd.concat([train_y, train_X], axis=1)"
   ]
  },
  {
   "cell_type": "markdown",
   "metadata": {},
   "source": [
    "## Step 1. Understand a Pipeline\n",
    "\n",
    "Consider the following Lale pipeline:"
   ]
  },
  {
   "cell_type": "code",
   "execution_count": 4,
   "metadata": {},
   "outputs": [],
   "source": [
    "from lale.lib.sklearn import Normalizer\n",
    "from lale.lib.sklearn import SelectKBest\n",
    "from lale.lib.sklearn import KNeighborsClassifier\n",
    "from lale.lib.lale import Project\n",
    "from lale.lib.lale import categorical\n",
    "from lale.lib.lale import ConcatFeatures"
   ]
  },
  {
   "cell_type": "code",
   "execution_count": 5,
   "metadata": {},
   "outputs": [],
   "source": [
    "prepA = Project(drop_columns=categorical(max_values=2)) >> Normalizer()\n",
    "prepB = Project(columns=categorical(max_values=2)) >> SelectKBest(k=8)\n",
    "pipeline1 = (prepA & prepB) >> ConcatFeatures >> KNeighborsClassifier()"
   ]
  },
  {
   "cell_type": "code",
   "execution_count": 6,
   "metadata": {},
   "outputs": [
    {
     "name": "stdout",
     "output_type": "stream",
     "text": [
      "accuracy 69.7%\n"
     ]
    }
   ],
   "source": [
    "from sklearn.metrics import accuracy_score\n",
    "trained1 = pipeline1.fit(train_X, train_y)\n",
    "print(f\"accuracy {accuracy_score(test_y, trained1.predict(test_X)):.1%}\")"
   ]
  },
  {
   "cell_type": "markdown",
   "metadata": {},
   "source": [
    "Handy documentation links:\n",
    "- [Lale API](https://lale.readthedocs.io/en/latest/)\n",
    "- [scikit-learn API](https://scikit-learn.org/stable/modules/classes.html)"
   ]
  },
  {
   "cell_type": "code",
   "execution_count": null,
   "metadata": {},
   "outputs": [],
   "source": [
    "# if you'd like to try things out, put your code here"
   ]
  },
  {
   "cell_type": "markdown",
   "metadata": {},
   "source": [
    "Please answer the following questions.\n",
    "\n",
    "- Q1a: What is the final classifier in the pipeline?\n",
    "- Q1b: Where does the input for the final classifier come from?\n",
    "- Q1c: Which columns are subjected to feature selection?"
   ]
  },
  {
   "cell_type": "markdown",
   "metadata": {},
   "source": [
    "## 2. Refine without Search\n",
    "\n",
    "Create a `pipeline2` that is similar to `pipeline1` from Question 1, except\n",
    "that instead of Normalizer, it uses a StandardScaler, and\n",
    "instead of KNeighborsClassifier, it uses a DecisionTreeClassifier with\n",
    "a maximum depth of 3. Handy documentation links:\n",
    "- [Lale API](https://lale.readthedocs.io/en/latest/)\n",
    "- [scikit-learn API](https://scikit-learn.org/stable/modules/classes.html)"
   ]
  },
  {
   "cell_type": "markdown",
   "metadata": {},
   "source": [
    "### Answer for Step 2."
   ]
  },
  {
   "cell_type": "code",
   "execution_count": 5,
   "metadata": {},
   "outputs": [],
   "source": [
    "# pipeline1 reproduced below:\n",
    "prepA = Project(drop_columns=categorical(max_values=2)) >> Normalizer()\n",
    "prepB = Project(columns=categorical(max_values=2)) >> SelectKBest(k=8)\n",
    "pipeline1 = (prepA & prepB) >> ConcatFeatures >> KNeighborsClassifier()\n",
    "\n",
    "# your code here"
   ]
  },
  {
   "cell_type": "markdown",
   "metadata": {},
   "source": [
    "### Questions about Step 2.\n",
    "\n",
    "- Q2a. What documentation did you find the most helpful?\n",
    "- Q2b. Did your new pipeline work the first time? If not, what went wrong?\n",
    "- Q2c. What gotchas did you encounter, if any?"
   ]
  },
  {
   "cell_type": "markdown",
   "metadata": {},
   "source": [
    "## Step 3. Error Messages\n",
    "\n",
    "Look at the error message from the following code:"
   ]
  },
  {
   "cell_type": "code",
   "execution_count": 10,
   "metadata": {},
   "outputs": [
    {
     "ename": "ValidationError",
     "evalue": "Invalid configuration for LinearSVC(penalty='l1', loss='hinge') due to constraint the combination of penalty=`l1` and loss=`hinge` is not supported.\nSchema of constraint 1: {\n    \"description\": \"The combination of penalty=`l1` and loss=`hinge` is not supported\",\n    \"anyOf\": [\n        {\"type\": \"object\", \"properties\": {\"penalty\": {\"enum\": [\"l2\"]}}},\n        {\n            \"type\": \"object\",\n            \"properties\": {\"loss\": {\"enum\": [\"squared_hinge\"]}},\n        },\n    ],\n}\nValue: {'penalty': 'l1', 'loss': 'hinge', 'dual': True, 'tol': 0.0001, 'C': 1.0, 'multi_class': 'ovr', 'fit_intercept': True, 'intercept_scaling': 1.0, 'class_weight': None, 'verbose': 0, 'random_state': None, 'max_iter': 1000}",
     "output_type": "error",
     "traceback": [
      "\u001b[0;31m---------------------------------------------------------------------------\u001b[0m",
      "\u001b[0;31mValidationError\u001b[0m                           Traceback (most recent call last)",
      "\u001b[0;32m<ipython-input-10-403f4f9e4572>\u001b[0m in \u001b[0;36m<module>\u001b[0;34m\u001b[0m\n\u001b[1;32m      1\u001b[0m \u001b[0;32mfrom\u001b[0m \u001b[0mlale\u001b[0m\u001b[0;34m.\u001b[0m\u001b[0mlib\u001b[0m\u001b[0;34m.\u001b[0m\u001b[0msklearn\u001b[0m \u001b[0;32mimport\u001b[0m \u001b[0mLinearSVC\u001b[0m\u001b[0;34m\u001b[0m\u001b[0;34m\u001b[0m\u001b[0m\n\u001b[0;32m----> 2\u001b[0;31m \u001b[0mpipeline3\u001b[0m \u001b[0;34m=\u001b[0m \u001b[0mSelectKBest\u001b[0m\u001b[0;34m(\u001b[0m\u001b[0mk\u001b[0m\u001b[0;34m=\u001b[0m\u001b[0;36m15\u001b[0m\u001b[0;34m)\u001b[0m \u001b[0;34m>>\u001b[0m \u001b[0mLinearSVC\u001b[0m\u001b[0;34m(\u001b[0m\u001b[0mpenalty\u001b[0m\u001b[0;34m=\u001b[0m\u001b[0;34m\"l1\"\u001b[0m\u001b[0;34m,\u001b[0m \u001b[0mloss\u001b[0m\u001b[0;34m=\u001b[0m\u001b[0;34m\"hinge\"\u001b[0m\u001b[0;34m)\u001b[0m\u001b[0;34m\u001b[0m\u001b[0;34m\u001b[0m\u001b[0m\n\u001b[0m",
      "\u001b[0;32m~/.pyenv/versions/3.7.9/lib/python3.7/site-packages/lale/operators.py\u001b[0m in \u001b[0;36m__call__\u001b[0;34m(self, *args, **kwargs)\u001b[0m\n\u001b[1;32m   1516\u001b[0m \u001b[0;34m\u001b[0m\u001b[0m\n\u001b[1;32m   1517\u001b[0m     \u001b[0;32mdef\u001b[0m \u001b[0m__call__\u001b[0m\u001b[0;34m(\u001b[0m\u001b[0mself\u001b[0m\u001b[0;34m,\u001b[0m \u001b[0;34m*\u001b[0m\u001b[0margs\u001b[0m\u001b[0;34m,\u001b[0m \u001b[0;34m**\u001b[0m\u001b[0mkwargs\u001b[0m\u001b[0;34m)\u001b[0m \u001b[0;34m->\u001b[0m \u001b[0;34m\"TrainableIndividualOp\"\u001b[0m\u001b[0;34m:\u001b[0m\u001b[0;34m\u001b[0m\u001b[0;34m\u001b[0m\u001b[0m\n\u001b[0;32m-> 1518\u001b[0;31m         \u001b[0;32mreturn\u001b[0m \u001b[0mself\u001b[0m\u001b[0;34m.\u001b[0m\u001b[0m_configure\u001b[0m\u001b[0;34m(\u001b[0m\u001b[0;34m*\u001b[0m\u001b[0margs\u001b[0m\u001b[0;34m,\u001b[0m \u001b[0;34m**\u001b[0m\u001b[0mkwargs\u001b[0m\u001b[0;34m)\u001b[0m\u001b[0;34m\u001b[0m\u001b[0;34m\u001b[0m\u001b[0m\n\u001b[0m\u001b[1;32m   1519\u001b[0m \u001b[0;34m\u001b[0m\u001b[0m\n\u001b[1;32m   1520\u001b[0m     \u001b[0;32mdef\u001b[0m \u001b[0m_hyperparam_schema_with_hyperparams\u001b[0m\u001b[0;34m(\u001b[0m\u001b[0mself\u001b[0m\u001b[0;34m,\u001b[0m \u001b[0mdata_schema\u001b[0m\u001b[0;34m=\u001b[0m\u001b[0;34m{\u001b[0m\u001b[0;34m}\u001b[0m\u001b[0;34m)\u001b[0m\u001b[0;34m:\u001b[0m\u001b[0;34m\u001b[0m\u001b[0;34m\u001b[0m\u001b[0m\n",
      "\u001b[0;32m~/.pyenv/versions/3.7.9/lib/python3.7/site-packages/lale/operators.py\u001b[0m in \u001b[0;36m_configure\u001b[0;34m(self, *args, **kwargs)\u001b[0m\n\u001b[1;32m   1492\u001b[0m         \u001b[0mtrainable_to_get_params\u001b[0m\u001b[0;34m.\u001b[0m\u001b[0m_hyperparams\u001b[0m \u001b[0;34m=\u001b[0m \u001b[0mhyperparams\u001b[0m\u001b[0;34m\u001b[0m\u001b[0;34m\u001b[0m\u001b[0m\n\u001b[1;32m   1493\u001b[0m         \u001b[0mparams_all\u001b[0m \u001b[0;34m=\u001b[0m \u001b[0mtrainable_to_get_params\u001b[0m\u001b[0;34m.\u001b[0m\u001b[0m_get_params_all\u001b[0m\u001b[0;34m(\u001b[0m\u001b[0;34m)\u001b[0m\u001b[0;34m\u001b[0m\u001b[0;34m\u001b[0m\u001b[0m\n\u001b[0;32m-> 1494\u001b[0;31m         \u001b[0mself\u001b[0m\u001b[0;34m.\u001b[0m\u001b[0m_validate_hyperparams\u001b[0m\u001b[0;34m(\u001b[0m\u001b[0mhyperparams\u001b[0m\u001b[0;34m,\u001b[0m \u001b[0mparams_all\u001b[0m\u001b[0;34m,\u001b[0m \u001b[0mself\u001b[0m\u001b[0;34m.\u001b[0m\u001b[0mhyperparam_schema\u001b[0m\u001b[0;34m(\u001b[0m\u001b[0;34m)\u001b[0m\u001b[0;34m)\u001b[0m\u001b[0;34m\u001b[0m\u001b[0;34m\u001b[0m\u001b[0m\n\u001b[0m\u001b[1;32m   1495\u001b[0m         \u001b[0;32mif\u001b[0m \u001b[0mlen\u001b[0m\u001b[0;34m(\u001b[0m\u001b[0mparams_all\u001b[0m\u001b[0;34m)\u001b[0m \u001b[0;34m==\u001b[0m \u001b[0;36m0\u001b[0m\u001b[0;34m:\u001b[0m\u001b[0;34m\u001b[0m\u001b[0;34m\u001b[0m\u001b[0m\n\u001b[1;32m   1496\u001b[0m             \u001b[0mimpl\u001b[0m \u001b[0;34m=\u001b[0m \u001b[0mclass_\u001b[0m\u001b[0;34m(\u001b[0m\u001b[0;34m)\u001b[0m\u001b[0;34m\u001b[0m\u001b[0;34m\u001b[0m\u001b[0m\n",
      "\u001b[0;32m~/.pyenv/versions/3.7.9/lib/python3.7/site-packages/lale/operators.py\u001b[0m in \u001b[0;36m_validate_hyperparams\u001b[0;34m(self, hp_explicit, hp_all, hp_schema)\u001b[0m\n\u001b[1;32m   1314\u001b[0m                 \u001b[0;34m+\u001b[0m \u001b[0;34mf\"Value: {e.instance}\"\u001b[0m\u001b[0;34m\u001b[0m\u001b[0;34m\u001b[0m\u001b[0m\n\u001b[1;32m   1315\u001b[0m             )\n\u001b[0;32m-> 1316\u001b[0;31m             \u001b[0;32mraise\u001b[0m \u001b[0mjsonschema\u001b[0m\u001b[0;34m.\u001b[0m\u001b[0mValidationError\u001b[0m\u001b[0;34m(\u001b[0m\u001b[0mmsg\u001b[0m\u001b[0;34m)\u001b[0m\u001b[0;34m\u001b[0m\u001b[0;34m\u001b[0m\u001b[0m\n\u001b[0m\u001b[1;32m   1317\u001b[0m \u001b[0;34m\u001b[0m\u001b[0m\n\u001b[1;32m   1318\u001b[0m     \u001b[0;32mdef\u001b[0m \u001b[0mvalidate_schema\u001b[0m\u001b[0;34m(\u001b[0m\u001b[0mself\u001b[0m\u001b[0;34m,\u001b[0m \u001b[0mX\u001b[0m\u001b[0;34m,\u001b[0m \u001b[0my\u001b[0m\u001b[0;34m=\u001b[0m\u001b[0;32mNone\u001b[0m\u001b[0;34m)\u001b[0m\u001b[0;34m:\u001b[0m\u001b[0;34m\u001b[0m\u001b[0;34m\u001b[0m\u001b[0m\n",
      "\u001b[0;31mValidationError\u001b[0m: Invalid configuration for LinearSVC(penalty='l1', loss='hinge') due to constraint the combination of penalty=`l1` and loss=`hinge` is not supported.\nSchema of constraint 1: {\n    \"description\": \"The combination of penalty=`l1` and loss=`hinge` is not supported\",\n    \"anyOf\": [\n        {\"type\": \"object\", \"properties\": {\"penalty\": {\"enum\": [\"l2\"]}}},\n        {\n            \"type\": \"object\",\n            \"properties\": {\"loss\": {\"enum\": [\"squared_hinge\"]}},\n        },\n    ],\n}\nValue: {'penalty': 'l1', 'loss': 'hinge', 'dual': True, 'tol': 0.0001, 'C': 1.0, 'multi_class': 'ovr', 'fit_intercept': True, 'intercept_scaling': 1.0, 'class_weight': None, 'verbose': 0, 'random_state': None, 'max_iter': 1000}"
     ]
    }
   ],
   "source": [
    "from lale.lib.sklearn import LinearSVC\n",
    "pipeline3 = SelectKBest(k=15) >> LinearSVC(penalty=\"l1\", loss=\"hinge\")"
   ]
  },
  {
   "cell_type": "code",
   "execution_count": 11,
   "metadata": {},
   "outputs": [
    {
     "ename": "NameError",
     "evalue": "name 'pipeline3' is not defined",
     "output_type": "error",
     "traceback": [
      "\u001b[0;31m---------------------------------------------------------------------------\u001b[0m",
      "\u001b[0;31mNameError\u001b[0m                                 Traceback (most recent call last)",
      "\u001b[0;32m<ipython-input-11-a7a03ce211d4>\u001b[0m in \u001b[0;36m<module>\u001b[0;34m\u001b[0m\n\u001b[0;32m----> 1\u001b[0;31m \u001b[0mtrained3\u001b[0m \u001b[0;34m=\u001b[0m \u001b[0mpipeline3\u001b[0m\u001b[0;34m.\u001b[0m\u001b[0mfit\u001b[0m\u001b[0;34m(\u001b[0m\u001b[0mtrain_X\u001b[0m\u001b[0;34m,\u001b[0m \u001b[0mtrain_y\u001b[0m\u001b[0;34m)\u001b[0m\u001b[0;34m\u001b[0m\u001b[0;34m\u001b[0m\u001b[0m\n\u001b[0m\u001b[1;32m      2\u001b[0m \u001b[0mpred_y\u001b[0m \u001b[0;34m=\u001b[0m \u001b[0mtrained3\u001b[0m\u001b[0;34m.\u001b[0m\u001b[0mpredict\u001b[0m\u001b[0;34m(\u001b[0m\u001b[0mtest_X\u001b[0m\u001b[0;34m)\u001b[0m\u001b[0;34m\u001b[0m\u001b[0;34m\u001b[0m\u001b[0m\n",
      "\u001b[0;31mNameError\u001b[0m: name 'pipeline3' is not defined"
     ]
    }
   ],
   "source": [
    "trained3 = pipeline3.fit(train_X, train_y)\n",
    "pred_y = trained3.predict(test_X)"
   ]
  },
  {
   "cell_type": "markdown",
   "metadata": {},
   "source": [
    "Make a small change to the pipeline to avoid that error.\n",
    "\n",
    "Handy documentation links:\n",
    "- [Lale docs for LinearSVC](https://lale.readthedocs.io/en/latest/modules/lale.lib.sklearn.linear_svc.html)\n",
    "- [sklearn docs for LinearSVC](https://scikit-learn.org/stable/modules/generated/sklearn.svm.LinearSVC.html),\n",
    "\n",
    "### Answer for Step 3."
   ]
  },
  {
   "cell_type": "code",
   "execution_count": null,
   "metadata": {},
   "outputs": [],
   "source": [
    "# Please fix the reproduced pipeline in the cells below:\n",
    "\n",
    "from lale.lib.sklearn import LinearSVC\n",
    "pipeline3 = SelectKBest(k=15) >> LinearSVC(penalty=\"l1\", loss=\"hinge\")"
   ]
  },
  {
   "cell_type": "code",
   "execution_count": null,
   "metadata": {},
   "outputs": [],
   "source": [
    "trained3 = pipeline3.fit(train_X, train_y)\n",
    "pred_y = trained3.predict(test_X)"
   ]
  },
  {
   "cell_type": "markdown",
   "metadata": {},
   "source": [
    "### Questions about Step 3.\n",
    "\n",
    "- Q3a. What caused the error?\n",
    "- Q3b. Which documentation did you find useful for diagnosing the error?\n",
    "- Q3c. Was the schema in the error message useful?\n",
    "- Q3d. How do you normally debug machine learning pipelines?"
   ]
  },
  {
   "cell_type": "markdown",
   "metadata": {},
   "source": [
    "## Step 4. Refine with Search\n",
    "\n",
    "Experiment with a search space of variants of `pipeline1` (from Question 1):\n",
    "\n",
    "- normalizers: Normalizer, StandardScaler, or neither\n",
    "- classifiers: LogisticRegression, ExtraTreesClassifier,\n",
    "  KNeighborsClassifier, or DecisionTreeClassifier\n",
    "\n",
    "Find the one with the best predictive performance.\n",
    "\n",
    "Handy documentation links:\n",
    "- [Lale API](https://lale.readthedocs.io/en/latest/)\n",
    "- [scikit-learn API](https://scikit-learn.org/stable/modules/classes.html)\n",
    "\n",
    "### Answer for Step 4."
   ]
  },
  {
   "cell_type": "code",
   "execution_count": 9,
   "metadata": {},
   "outputs": [],
   "source": [
    "from lale.lib.sklearn import StandardScaler\n",
    "from lale.lib.sklearn import LogisticRegression, ExtraTreesClassifier, DecisionTreeClassifier\n",
    "\n",
    "# pipeline1 reproduced below:\n",
    "prepA = Project(drop_columns=categorical(max_values=2)) >> Normalizer()\n",
    "prepB = Project(columns=categorical(max_values=2)) >> SelectKBest(k=8)\n",
    "pipeline1 = (prepA & prepB) >> ConcatFeatures >> KNeighborsClassifier()\n",
    "\n",
    "# your code here"
   ]
  },
  {
   "cell_type": "markdown",
   "metadata": {},
   "source": [
    "### Questions about Step 4.\n",
    "\n",
    "- Q4a. Which pipeline variant lead to the highest accuracy?\n",
    "- Q4b. What was the accuracy of that pipeline variant?\n",
    "- Q4c. Did your new pipeline work the first time? If not, what went wrong?\n",
    "- Q4d. What gotchas did you encounter, if any?\n",
    "- Q4e. How do you normally search across pipeline variants?"
   ]
  }
 ],
 "metadata": {
  "kernelspec": {
   "display_name": "Python 3",
   "language": "python",
   "name": "python3"
  },
  "language_info": {
   "codemirror_mode": {
    "name": "ipython",
    "version": 3
   },
   "file_extension": ".py",
   "mimetype": "text/x-python",
   "name": "python",
   "nbconvert_exporter": "python",
   "pygments_lexer": "ipython3",
   "version": "3.7.9"
  }
 },
 "nbformat": 4,
 "nbformat_minor": 2
}
