{
 "cells": [
  {
   "cell_type": "markdown",
   "metadata": {},
   "source": [
    "# Lale User Study - March 2021 - sklearn treatment\n",
    "\n",
    "The goal of this study is to examine different dimensions of usability of machine learning (ML) pipelines. We will provide a number of sample pipelines and ask you to analyze and manipulate them during 4 tasks:\n",
    "1. Understanding the pipeline\n",
    "1. Refinement\n",
    "1. Debugging\n",
    "1. Refinement with Search\n",
    "\n",
    "Before we start, we load a dataset and print a few rows to see what it looks like."
   ]
  },
  {
   "cell_type": "code",
   "execution_count": 1,
   "metadata": {},
   "outputs": [
    {
     "data": {
      "text/html": [
       "<div>\n",
       "<style scoped>\n",
       "    .dataframe tbody tr th:only-of-type {\n",
       "        vertical-align: middle;\n",
       "    }\n",
       "\n",
       "    .dataframe tbody tr th {\n",
       "        vertical-align: top;\n",
       "    }\n",
       "\n",
       "    .dataframe thead th {\n",
       "        text-align: right;\n",
       "    }\n",
       "</style>\n",
       "<table border=\"1\" class=\"dataframe\">\n",
       "  <thead>\n",
       "    <tr style=\"text-align: right;\">\n",
       "      <th></th>\n",
       "      <th>target</th>\n",
       "      <th>Elevation</th>\n",
       "      <th>Aspect</th>\n",
       "      <th>Slope</th>\n",
       "      <th>Horizontal_Distance_To_Hydrology</th>\n",
       "      <th>...</th>\n",
       "      <th>Soil_Type35</th>\n",
       "      <th>Soil_Type37</th>\n",
       "      <th>Soil_Type38</th>\n",
       "      <th>Soil_Type39</th>\n",
       "      <th>Soil_Type40</th>\n",
       "    </tr>\n",
       "  </thead>\n",
       "  <tbody>\n",
       "    <tr>\n",
       "      <th>507955</th>\n",
       "      <td>3</td>\n",
       "      <td>2575.0</td>\n",
       "      <td>272.0</td>\n",
       "      <td>5.0</td>\n",
       "      <td>481.0</td>\n",
       "      <td>...</td>\n",
       "      <td>0.0</td>\n",
       "      <td>0.0</td>\n",
       "      <td>0.0</td>\n",
       "      <td>0.0</td>\n",
       "      <td>0.0</td>\n",
       "    </tr>\n",
       "    <tr>\n",
       "      <th>381859</th>\n",
       "      <td>1</td>\n",
       "      <td>3406.0</td>\n",
       "      <td>162.0</td>\n",
       "      <td>14.0</td>\n",
       "      <td>631.0</td>\n",
       "      <td>...</td>\n",
       "      <td>0.0</td>\n",
       "      <td>0.0</td>\n",
       "      <td>1.0</td>\n",
       "      <td>0.0</td>\n",
       "      <td>0.0</td>\n",
       "    </tr>\n",
       "    <tr>\n",
       "      <th>316836</th>\n",
       "      <td>1</td>\n",
       "      <td>3020.0</td>\n",
       "      <td>304.0</td>\n",
       "      <td>9.0</td>\n",
       "      <td>108.0</td>\n",
       "      <td>...</td>\n",
       "      <td>0.0</td>\n",
       "      <td>0.0</td>\n",
       "      <td>0.0</td>\n",
       "      <td>0.0</td>\n",
       "      <td>0.0</td>\n",
       "    </tr>\n",
       "    <tr>\n",
       "      <th>556434</th>\n",
       "      <td>2</td>\n",
       "      <td>2740.0</td>\n",
       "      <td>69.0</td>\n",
       "      <td>17.0</td>\n",
       "      <td>67.0</td>\n",
       "      <td>...</td>\n",
       "      <td>0.0</td>\n",
       "      <td>0.0</td>\n",
       "      <td>0.0</td>\n",
       "      <td>0.0</td>\n",
       "      <td>0.0</td>\n",
       "    </tr>\n",
       "    <tr>\n",
       "      <th>275116</th>\n",
       "      <td>2</td>\n",
       "      <td>2706.0</td>\n",
       "      <td>258.0</td>\n",
       "      <td>8.0</td>\n",
       "      <td>201.0</td>\n",
       "      <td>...</td>\n",
       "      <td>0.0</td>\n",
       "      <td>0.0</td>\n",
       "      <td>0.0</td>\n",
       "      <td>0.0</td>\n",
       "      <td>0.0</td>\n",
       "    </tr>\n",
       "    <tr>\n",
       "      <th>...</th>\n",
       "      <td>...</td>\n",
       "      <td>...</td>\n",
       "      <td>...</td>\n",
       "      <td>...</td>\n",
       "      <td>...</td>\n",
       "      <td>...</td>\n",
       "      <td>...</td>\n",
       "      <td>...</td>\n",
       "      <td>...</td>\n",
       "      <td>...</td>\n",
       "      <td>...</td>\n",
       "    </tr>\n",
       "    <tr>\n",
       "      <th>538389</th>\n",
       "      <td>2</td>\n",
       "      <td>2860.0</td>\n",
       "      <td>324.0</td>\n",
       "      <td>13.0</td>\n",
       "      <td>0.0</td>\n",
       "      <td>...</td>\n",
       "      <td>0.0</td>\n",
       "      <td>0.0</td>\n",
       "      <td>0.0</td>\n",
       "      <td>0.0</td>\n",
       "      <td>0.0</td>\n",
       "    </tr>\n",
       "    <tr>\n",
       "      <th>527299</th>\n",
       "      <td>2</td>\n",
       "      <td>2653.0</td>\n",
       "      <td>314.0</td>\n",
       "      <td>22.0</td>\n",
       "      <td>30.0</td>\n",
       "      <td>...</td>\n",
       "      <td>0.0</td>\n",
       "      <td>0.0</td>\n",
       "      <td>0.0</td>\n",
       "      <td>0.0</td>\n",
       "      <td>0.0</td>\n",
       "    </tr>\n",
       "    <tr>\n",
       "      <th>169780</th>\n",
       "      <td>1</td>\n",
       "      <td>3279.0</td>\n",
       "      <td>7.0</td>\n",
       "      <td>15.0</td>\n",
       "      <td>713.0</td>\n",
       "      <td>...</td>\n",
       "      <td>0.0</td>\n",
       "      <td>0.0</td>\n",
       "      <td>0.0</td>\n",
       "      <td>0.0</td>\n",
       "      <td>0.0</td>\n",
       "    </tr>\n",
       "    <tr>\n",
       "      <th>296001</th>\n",
       "      <td>1</td>\n",
       "      <td>3149.0</td>\n",
       "      <td>156.0</td>\n",
       "      <td>9.0</td>\n",
       "      <td>90.0</td>\n",
       "      <td>...</td>\n",
       "      <td>0.0</td>\n",
       "      <td>0.0</td>\n",
       "      <td>0.0</td>\n",
       "      <td>0.0</td>\n",
       "      <td>0.0</td>\n",
       "    </tr>\n",
       "    <tr>\n",
       "      <th>449087</th>\n",
       "      <td>2</td>\n",
       "      <td>2713.0</td>\n",
       "      <td>63.0</td>\n",
       "      <td>7.0</td>\n",
       "      <td>192.0</td>\n",
       "      <td>...</td>\n",
       "      <td>0.0</td>\n",
       "      <td>0.0</td>\n",
       "      <td>0.0</td>\n",
       "      <td>0.0</td>\n",
       "      <td>0.0</td>\n",
       "    </tr>\n",
       "  </tbody>\n",
       "</table>\n",
       "<p>10000 rows × 53 columns</p>\n",
       "</div>"
      ],
      "text/plain": [
       "        target  Elevation  Aspect  Slope  Horizontal_Distance_To_Hydrology  \\\n",
       "507955       3     2575.0   272.0    5.0                             481.0   \n",
       "381859       1     3406.0   162.0   14.0                             631.0   \n",
       "316836       1     3020.0   304.0    9.0                             108.0   \n",
       "556434       2     2740.0    69.0   17.0                              67.0   \n",
       "275116       2     2706.0   258.0    8.0                             201.0   \n",
       "...        ...        ...     ...    ...                               ...   \n",
       "538389       2     2860.0   324.0   13.0                               0.0   \n",
       "527299       2     2653.0   314.0   22.0                              30.0   \n",
       "169780       1     3279.0     7.0   15.0                             713.0   \n",
       "296001       1     3149.0   156.0    9.0                              90.0   \n",
       "449087       2     2713.0    63.0    7.0                             192.0   \n",
       "\n",
       "        ...  Soil_Type35  Soil_Type37  Soil_Type38  Soil_Type39  Soil_Type40  \n",
       "507955  ...          0.0          0.0          0.0          0.0          0.0  \n",
       "381859  ...          0.0          0.0          1.0          0.0          0.0  \n",
       "316836  ...          0.0          0.0          0.0          0.0          0.0  \n",
       "556434  ...          0.0          0.0          0.0          0.0          0.0  \n",
       "275116  ...          0.0          0.0          0.0          0.0          0.0  \n",
       "...     ...          ...          ...          ...          ...          ...  \n",
       "538389  ...          0.0          0.0          0.0          0.0          0.0  \n",
       "527299  ...          0.0          0.0          0.0          0.0          0.0  \n",
       "169780  ...          0.0          0.0          0.0          0.0          0.0  \n",
       "296001  ...          0.0          0.0          0.0          0.0          0.0  \n",
       "449087  ...          0.0          0.0          0.0          0.0          0.0  \n",
       "\n",
       "[10000 rows x 53 columns]"
      ]
     },
     "execution_count": 1,
     "metadata": {},
     "output_type": "execute_result"
    }
   ],
   "source": [
    "#load forest covertype data, downsampled for faster experiments\n",
    "import pandas as pd\n",
    "from lale.datasets import covtype_df\n",
    "from sklearn.model_selection import train_test_split\n",
    "\n",
    "train_X = pd.read_pickle(\"train_x.pickle\")\n",
    "test_X = pd.read_pickle(\"test_x.pickle\")\n",
    "train_y = pd.read_pickle(\"train_y.pickle\")\n",
    "test_y = pd.read_pickle(\"test_y.pickle\")\n",
    "\n",
    "pd.options.display.max_columns = 10\n",
    "pd.concat([train_y, train_X], axis=1)"
   ]
  },
  {
   "cell_type": "markdown",
   "metadata": {},
   "source": [
    "## Step 1. Understand a Pipeline\n",
    "\n",
    "Consider the following sklearn pipeline:"
   ]
  },
  {
   "cell_type": "code",
   "execution_count": 2,
   "metadata": {},
   "outputs": [],
   "source": [
    "from sklearn.preprocessing import Normalizer\n",
    "from sklearn.feature_selection import SelectKBest\n",
    "from sklearn.neighbors import KNeighborsClassifier\n",
    "from sklearn.compose import ColumnTransformer\n",
    "from sklearn.pipeline import Pipeline"
   ]
  },
  {
   "cell_type": "code",
   "execution_count": 3,
   "metadata": {},
   "outputs": [],
   "source": [
    "prepB_columns = [c for c in train_X.columns if train_X[c].nunique() <= 2]\n",
    "column_transformer = ColumnTransformer(\n",
    "    transformers=[('prepB', SelectKBest(k=8), prepB_columns)],\n",
    "    remainder=Normalizer(),\n",
    ")\n",
    "pipeline1 = Pipeline(\n",
    "    steps=[(\"tfm\", column_transformer), (\"est\", KNeighborsClassifier())]\n",
    ")"
   ]
  },
  {
   "cell_type": "code",
   "execution_count": 4,
   "metadata": {},
   "outputs": [
    {
     "name": "stdout",
     "output_type": "stream",
     "text": [
      "accuracy 69.7%\n"
     ]
    }
   ],
   "source": [
    "from sklearn.metrics import accuracy_score\n",
    "trained1 = pipeline1.fit(train_X, train_y)\n",
    "print(f\"accuracy {accuracy_score(test_y, trained1.predict(test_X)):.1%}\")"
   ]
  },
  {
   "cell_type": "markdown",
   "metadata": {},
   "source": [
    "Handy documentation links:\n",
    "- [scikit-learn API](https://scikit-learn.org/stable/modules/classes.html)\n",
    "- [Lale API](https://lale.readthedocs.io/en/latest/)"
   ]
  },
  {
   "cell_type": "code",
   "execution_count": 5,
   "metadata": {},
   "outputs": [],
   "source": [
    "# if you'd like to try things out, put your code here"
   ]
  },
  {
   "cell_type": "markdown",
   "metadata": {},
   "source": [
    "**Please answer the following questions.**\n",
    "\n",
    "- Q1a: What is the final classifier in the pipeline?\n",
    "- Q1b: Where does the input for the final classifier come from?\n",
    "- Q1c: Which columns are subjected to feature selection?"
   ]
  },
  {
   "cell_type": "markdown",
   "metadata": {},
   "source": [
    "## 2. Refine without Search\n",
    "\n",
    "Create a `pipeline2` that is similar to `pipeline1` from Question 1, except\n",
    "that instead of Normalizer, it uses a StandardScaler, and\n",
    "instead of KNeighborsClassifier, it uses a DecisionTreeClassifier with\n",
    "a maximum depth of 3. Handy documentation links:\n",
    "- [scikit-learn API](https://scikit-learn.org/stable/modules/classes.html)\n",
    "- [Lale API](https://lale.readthedocs.io/en/latest/)"
   ]
  },
  {
   "cell_type": "markdown",
   "metadata": {},
   "source": [
    "### Answer for Step 2."
   ]
  },
  {
   "cell_type": "code",
   "execution_count": 6,
   "metadata": {},
   "outputs": [],
   "source": [
    "# pipeline 1 reproduced below\n",
    "prepB_columns = [c for c in train_X.columns if train_X[c].nunique() <= 2]\n",
    "column_transformer = ColumnTransformer(\n",
    "    transformers=[('prepB', SelectKBest(k=8), prepB_columns)],\n",
    "    remainder=Normalizer(),\n",
    ")\n",
    "pipeline1 = Pipeline(\n",
    "    steps=[(\"tfm\", column_transformer), (\"est\", KNeighborsClassifier())]\n",
    ")\n",
    "\n",
    "# your code here"
   ]
  },
  {
   "cell_type": "markdown",
   "metadata": {},
   "source": [
    "### Questions about Step 2.\n",
    "\n",
    "- Q2a. What documentation did you find the most helpful?\n",
    "- Q2b. Did your new pipeline work the first time? If not, what went wrong?\n",
    "- Q2c. What gotchas did you encounter, if any?"
   ]
  },
  {
   "cell_type": "markdown",
   "metadata": {},
   "source": [
    "## Step 3. Error Messages\n",
    "\n",
    "Look at the error message from the following code:"
   ]
  },
  {
   "cell_type": "code",
   "execution_count": 7,
   "metadata": {},
   "outputs": [],
   "source": [
    "from sklearn.svm import LinearSVC\n",
    "pipeline3 = Pipeline(\n",
    "    steps=[(\"tfm\", SelectKBest(k=15)), (\"est\", LinearSVC(penalty=\"l1\", loss=\"hinge\"))]\n",
    ")"
   ]
  },
  {
   "cell_type": "code",
   "execution_count": 8,
   "metadata": {},
   "outputs": [
    {
     "ename": "ValueError",
     "evalue": "Unsupported set of arguments: The combination of penalty='l1' and loss='hinge' is not supported, Parameters: penalty='l1', loss='hinge', dual=True",
     "output_type": "error",
     "traceback": [
      "\u001b[0;31m---------------------------------------------------------------------------\u001b[0m",
      "\u001b[0;31mValueError\u001b[0m                                Traceback (most recent call last)",
      "\u001b[0;32m<ipython-input-8-88d79d1ed349>\u001b[0m in \u001b[0;36m<module>\u001b[0;34m\u001b[0m\n\u001b[0;32m----> 1\u001b[0;31m \u001b[0mpipeline3\u001b[0m\u001b[0;34m.\u001b[0m\u001b[0mfit\u001b[0m\u001b[0;34m(\u001b[0m\u001b[0mtrain_X\u001b[0m\u001b[0;34m,\u001b[0m \u001b[0mtrain_y\u001b[0m\u001b[0;34m)\u001b[0m\u001b[0;34m\u001b[0m\u001b[0;34m\u001b[0m\u001b[0m\n\u001b[0m\u001b[1;32m      2\u001b[0m \u001b[0mpred_y\u001b[0m \u001b[0;34m=\u001b[0m \u001b[0mpipeline3\u001b[0m\u001b[0;34m.\u001b[0m\u001b[0mpredict\u001b[0m\u001b[0;34m(\u001b[0m\u001b[0mtest_X\u001b[0m\u001b[0;34m)\u001b[0m\u001b[0;34m\u001b[0m\u001b[0;34m\u001b[0m\u001b[0m\n",
      "\u001b[0;32m~/.pyenv/versions/3.7.9/lib/python3.7/site-packages/sklearn/pipeline.py\u001b[0m in \u001b[0;36mfit\u001b[0;34m(self, X, y, **fit_params)\u001b[0m\n\u001b[1;32m    333\u001b[0m             \u001b[0;32mif\u001b[0m \u001b[0mself\u001b[0m\u001b[0;34m.\u001b[0m\u001b[0m_final_estimator\u001b[0m \u001b[0;34m!=\u001b[0m \u001b[0;34m'passthrough'\u001b[0m\u001b[0;34m:\u001b[0m\u001b[0;34m\u001b[0m\u001b[0;34m\u001b[0m\u001b[0m\n\u001b[1;32m    334\u001b[0m                 \u001b[0mfit_params_last_step\u001b[0m \u001b[0;34m=\u001b[0m \u001b[0mfit_params_steps\u001b[0m\u001b[0;34m[\u001b[0m\u001b[0mself\u001b[0m\u001b[0;34m.\u001b[0m\u001b[0msteps\u001b[0m\u001b[0;34m[\u001b[0m\u001b[0;34m-\u001b[0m\u001b[0;36m1\u001b[0m\u001b[0;34m]\u001b[0m\u001b[0;34m[\u001b[0m\u001b[0;36m0\u001b[0m\u001b[0;34m]\u001b[0m\u001b[0;34m]\u001b[0m\u001b[0;34m\u001b[0m\u001b[0;34m\u001b[0m\u001b[0m\n\u001b[0;32m--> 335\u001b[0;31m                 \u001b[0mself\u001b[0m\u001b[0;34m.\u001b[0m\u001b[0m_final_estimator\u001b[0m\u001b[0;34m.\u001b[0m\u001b[0mfit\u001b[0m\u001b[0;34m(\u001b[0m\u001b[0mXt\u001b[0m\u001b[0;34m,\u001b[0m \u001b[0my\u001b[0m\u001b[0;34m,\u001b[0m \u001b[0;34m**\u001b[0m\u001b[0mfit_params_last_step\u001b[0m\u001b[0;34m)\u001b[0m\u001b[0;34m\u001b[0m\u001b[0;34m\u001b[0m\u001b[0m\n\u001b[0m\u001b[1;32m    336\u001b[0m \u001b[0;34m\u001b[0m\u001b[0m\n\u001b[1;32m    337\u001b[0m         \u001b[0;32mreturn\u001b[0m \u001b[0mself\u001b[0m\u001b[0;34m\u001b[0m\u001b[0;34m\u001b[0m\u001b[0m\n",
      "\u001b[0;32m~/.pyenv/versions/3.7.9/lib/python3.7/site-packages/sklearn/svm/_classes.py\u001b[0m in \u001b[0;36mfit\u001b[0;34m(self, X, y, sample_weight)\u001b[0m\n\u001b[1;32m    235\u001b[0m             \u001b[0mself\u001b[0m\u001b[0;34m.\u001b[0m\u001b[0mclass_weight\u001b[0m\u001b[0;34m,\u001b[0m \u001b[0mself\u001b[0m\u001b[0;34m.\u001b[0m\u001b[0mpenalty\u001b[0m\u001b[0;34m,\u001b[0m \u001b[0mself\u001b[0m\u001b[0;34m.\u001b[0m\u001b[0mdual\u001b[0m\u001b[0;34m,\u001b[0m \u001b[0mself\u001b[0m\u001b[0;34m.\u001b[0m\u001b[0mverbose\u001b[0m\u001b[0;34m,\u001b[0m\u001b[0;34m\u001b[0m\u001b[0;34m\u001b[0m\u001b[0m\n\u001b[1;32m    236\u001b[0m             \u001b[0mself\u001b[0m\u001b[0;34m.\u001b[0m\u001b[0mmax_iter\u001b[0m\u001b[0;34m,\u001b[0m \u001b[0mself\u001b[0m\u001b[0;34m.\u001b[0m\u001b[0mtol\u001b[0m\u001b[0;34m,\u001b[0m \u001b[0mself\u001b[0m\u001b[0;34m.\u001b[0m\u001b[0mrandom_state\u001b[0m\u001b[0;34m,\u001b[0m \u001b[0mself\u001b[0m\u001b[0;34m.\u001b[0m\u001b[0mmulti_class\u001b[0m\u001b[0;34m,\u001b[0m\u001b[0;34m\u001b[0m\u001b[0;34m\u001b[0m\u001b[0m\n\u001b[0;32m--> 237\u001b[0;31m             self.loss, sample_weight=sample_weight)\n\u001b[0m\u001b[1;32m    238\u001b[0m \u001b[0;34m\u001b[0m\u001b[0m\n\u001b[1;32m    239\u001b[0m         \u001b[0;32mif\u001b[0m \u001b[0mself\u001b[0m\u001b[0;34m.\u001b[0m\u001b[0mmulti_class\u001b[0m \u001b[0;34m==\u001b[0m \u001b[0;34m\"crammer_singer\"\u001b[0m \u001b[0;32mand\u001b[0m \u001b[0mlen\u001b[0m\u001b[0;34m(\u001b[0m\u001b[0mself\u001b[0m\u001b[0;34m.\u001b[0m\u001b[0mclasses_\u001b[0m\u001b[0;34m)\u001b[0m \u001b[0;34m==\u001b[0m \u001b[0;36m2\u001b[0m\u001b[0;34m:\u001b[0m\u001b[0;34m\u001b[0m\u001b[0;34m\u001b[0m\u001b[0m\n",
      "\u001b[0;32m~/.pyenv/versions/3.7.9/lib/python3.7/site-packages/sklearn/svm/_base.py\u001b[0m in \u001b[0;36m_fit_liblinear\u001b[0;34m(X, y, C, fit_intercept, intercept_scaling, class_weight, penalty, dual, verbose, max_iter, tol, random_state, multi_class, loss, epsilon, sample_weight)\u001b[0m\n\u001b[1;32m    963\u001b[0m                                          dtype=np.float64)\n\u001b[1;32m    964\u001b[0m \u001b[0;34m\u001b[0m\u001b[0m\n\u001b[0;32m--> 965\u001b[0;31m     \u001b[0msolver_type\u001b[0m \u001b[0;34m=\u001b[0m \u001b[0m_get_liblinear_solver_type\u001b[0m\u001b[0;34m(\u001b[0m\u001b[0mmulti_class\u001b[0m\u001b[0;34m,\u001b[0m \u001b[0mpenalty\u001b[0m\u001b[0;34m,\u001b[0m \u001b[0mloss\u001b[0m\u001b[0;34m,\u001b[0m \u001b[0mdual\u001b[0m\u001b[0;34m)\u001b[0m\u001b[0;34m\u001b[0m\u001b[0;34m\u001b[0m\u001b[0m\n\u001b[0m\u001b[1;32m    966\u001b[0m     raw_coef_, n_iter_ = liblinear.train_wrap(\n\u001b[1;32m    967\u001b[0m         \u001b[0mX\u001b[0m\u001b[0;34m,\u001b[0m \u001b[0my_ind\u001b[0m\u001b[0;34m,\u001b[0m \u001b[0msp\u001b[0m\u001b[0;34m.\u001b[0m\u001b[0misspmatrix\u001b[0m\u001b[0;34m(\u001b[0m\u001b[0mX\u001b[0m\u001b[0;34m)\u001b[0m\u001b[0;34m,\u001b[0m \u001b[0msolver_type\u001b[0m\u001b[0;34m,\u001b[0m \u001b[0mtol\u001b[0m\u001b[0;34m,\u001b[0m \u001b[0mbias\u001b[0m\u001b[0;34m,\u001b[0m \u001b[0mC\u001b[0m\u001b[0;34m,\u001b[0m\u001b[0;34m\u001b[0m\u001b[0;34m\u001b[0m\u001b[0m\n",
      "\u001b[0;32m~/.pyenv/versions/3.7.9/lib/python3.7/site-packages/sklearn/svm/_base.py\u001b[0m in \u001b[0;36m_get_liblinear_solver_type\u001b[0;34m(multi_class, penalty, loss, dual)\u001b[0m\n\u001b[1;32m    821\u001b[0m     raise ValueError('Unsupported set of arguments: %s, '\n\u001b[1;32m    822\u001b[0m                      \u001b[0;34m'Parameters: penalty=%r, loss=%r, dual=%r'\u001b[0m\u001b[0;34m\u001b[0m\u001b[0;34m\u001b[0m\u001b[0m\n\u001b[0;32m--> 823\u001b[0;31m                      % (error_string, penalty, loss, dual))\n\u001b[0m\u001b[1;32m    824\u001b[0m \u001b[0;34m\u001b[0m\u001b[0m\n\u001b[1;32m    825\u001b[0m \u001b[0;34m\u001b[0m\u001b[0m\n",
      "\u001b[0;31mValueError\u001b[0m: Unsupported set of arguments: The combination of penalty='l1' and loss='hinge' is not supported, Parameters: penalty='l1', loss='hinge', dual=True"
     ]
    }
   ],
   "source": [
    "pipeline3.fit(train_X, train_y)\n",
    "pred_y = pipeline3.predict(test_X)"
   ]
  },
  {
   "cell_type": "markdown",
   "metadata": {},
   "source": [
    "Make a small change to the pipeline to avoid that error.\n",
    "\n",
    "Handy documentation links:\n",
    "- [sklearn docs for LinearSVC](https://scikit-learn.org/stable/modules/generated/sklearn.svm.LinearSVC.html)\n",
    "- [Lale docs for LinearSVC](https://lale.readthedocs.io/en/latest/modules/lale.lib.sklearn.linear_svc.html)\n",
    "\n",
    "### Answer for Step 3."
   ]
  },
  {
   "cell_type": "code",
   "execution_count": null,
   "metadata": {},
   "outputs": [],
   "source": [
    "# Please fix the reproduced pipeline in the cells below:\n",
    "\n",
    "from sklearn.svm import LinearSVC\n",
    "pipeline3 = Pipeline(\n",
    "    steps=[(\"tfm\", SelectKBest(k=15)), (\"est\", LinearSVC(penalty=\"l1\", loss=\"hinge\"))]\n",
    ")"
   ]
  },
  {
   "cell_type": "code",
   "execution_count": null,
   "metadata": {},
   "outputs": [],
   "source": [
    "pipeline3.fit(train_X, train_y)\n",
    "pred_y = pipeline3.predict(test_X)"
   ]
  },
  {
   "cell_type": "markdown",
   "metadata": {},
   "source": [
    "### Questions about Step 3.\n",
    "\n",
    "- Q3a. What caused the error?\n",
    "- Q3b. Which documentation did you find useful for diagnosing the error?\n",
    "- Q3c. Was the schema in the error message useful?\n",
    "- Q3d. How do you normally debug machine learning pipelines?"
   ]
  },
  {
   "cell_type": "markdown",
   "metadata": {},
   "source": [
    "## Step 4. Refine with Search\n",
    "\n",
    "Experiment with a search space of variants of `pipeline1` (from Question 1):\n",
    "\n",
    "- normalizers: Normalizer, StandardScaler, or neither\n",
    "- classifiers: LogisticRegression, ExtraTreesClassifier,\n",
    "  KNeighborsClassifier, or DecisionTreeClassifier\n",
    "\n",
    "Find the one with the best predictive performance.\n",
    "\n",
    "Handy documentation links:\n",
    "- [scikit-learn API](https://scikit-learn.org/stable/modules/classes.html)\n",
    "- [Lale API](https://lale.readthedocs.io/en/latest/)\n",
    "\n",
    "### Answer for Step 4."
   ]
  },
  {
   "cell_type": "code",
   "execution_count": 9,
   "metadata": {},
   "outputs": [],
   "source": [
    "from sklearn.preprocessing import StandardScaler\n",
    "from sklearn.linear_model import LogisticRegression\n",
    "from sklearn.ensemble import ExtraTreesClassifier\n",
    "from sklearn.tree import DecisionTreeClassifier\n",
    "\n",
    "# pipeline 1 reproduced below\n",
    "prepB_columns = [c for c in train_X.columns if train_X[c].nunique() <= 2]\n",
    "column_transformer = ColumnTransformer(\n",
    "    transformers=[('prepB', SelectKBest(k=8), prepB_columns)],\n",
    "    remainder=Normalizer(),\n",
    ")\n",
    "pipeline1 = Pipeline(\n",
    "    steps=[(\"tfm\", column_transformer), (\"est\", KNeighborsClassifier())]\n",
    ")\n",
    "\n",
    "# your code here"
   ]
  },
  {
   "cell_type": "markdown",
   "metadata": {},
   "source": [
    "### Questions about Step 4.\n",
    "\n",
    "- Q4a. Which pipeline variant lead to the highest accuracy?\n",
    "- Q4b. What was the accuracy of that pipeline variant?\n",
    "- Q4c. Did your new pipeline work the first time? If not, what went wrong?\n",
    "- Q4d. What gotchas did you encounter, if any?\n",
    "- Q4e. How do you normally search across pipeline variants?"
   ]
  },
  {
   "cell_type": "code",
   "execution_count": null,
   "metadata": {},
   "outputs": [],
   "source": []
  }
 ],
 "metadata": {
  "kernelspec": {
   "display_name": "Python 3",
   "language": "python",
   "name": "python3"
  },
  "language_info": {
   "codemirror_mode": {
    "name": "ipython",
    "version": 3
   },
   "file_extension": ".py",
   "mimetype": "text/x-python",
   "name": "python",
   "nbconvert_exporter": "python",
   "pygments_lexer": "ipython3",
   "version": "3.7.9"
  }
 },
 "nbformat": 4,
 "nbformat_minor": 2
}
